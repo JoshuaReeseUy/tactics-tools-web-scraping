{
 "cells": [
  {
   "cell_type": "markdown",
   "id": "43b3ac1c",
   "metadata": {},
   "source": [
    " # Chapter 0: Preparation\n",
    " Importing Neccessary Packages"
   ]
  },
  {
   "cell_type": "code",
   "execution_count": 1,
   "id": "ed277110",
   "metadata": {},
   "outputs": [],
   "source": [
    "import pandas as pd\n",
    "import matplotlib.pyplot as plt\n",
    "import numpy as np\n",
    "from adjustText import adjust_text"
   ]
  },
  {
   "cell_type": "markdown",
   "id": "e836ffb3",
   "metadata": {},
   "source": [
    "Defining all formulas used for future visualization"
   ]
  },
  {
   "cell_type": "code",
   "execution_count": 2,
   "id": "5d8ec045",
   "metadata": {},
   "outputs": [],
   "source": [
    "def unit_summation (df, preferences):\n",
    "    names = df['name'].tolist()\n",
    "    preferences = preferences.loc[preferences['name'].isin(names)]\n",
    "    df_counts = preferences.iloc[:,1:].apply(pd.Series.value_counts).fillna(0)\n",
    "    df_counts['Sum'] = df_counts.sum(axis=1)\n",
    "    return df_counts.sort_values(by=['Sum', 'unit0'], ascending=False)['Sum']\n",
    "\n",
    "\n",
    "def unit_comparison(df1, df2, preferences):\n",
    "    counts_1 = unit_summation(df1, preferences)\n",
    "    counts_2 = unit_summation(df2, preferences)\n",
    "    return pd.concat([counts_1, counts_2], axis=1).fillna(0)\n",
    "\n",
    "\n",
    "def make_bar_plot(df):\n",
    "    columns = df.columns\n",
    "    series = pd.Series(data=df[columns[0]].to_numpy(), index=df[columns[1]].to_numpy())\n",
    "    plot = series.plot(kind='barh')\n",
    "    plot.invert_yaxis()\n",
    "def make_histogram(df, bins):\n",
    "    columns = df.columns\n",
    "    column = df[columns[0]].to_numpy()\n",
    "    plt.hist(column, edgecolor ='black', bins=bins)\n",
    "    plt.show()\n"
   ]
  },
  {
   "cell_type": "markdown",
   "id": "65cee073",
   "metadata": {},
   "source": [
    "Importing the json files acquired from web scraping. "
   ]
  },
  {
   "cell_type": "code",
   "execution_count": 3,
   "id": "1768873b",
   "metadata": {},
   "outputs": [],
   "source": [
    "units = pd.read_json('units.json')\n",
    "players = pd.read_json('players.json')\n",
    "profiles = pd.read_json('profiles.json')\n",
    "preferences = pd.read_json('unit_choices.json')"
   ]
  },
  {
   "cell_type": "markdown",
   "id": "f6fd5106",
   "metadata": {},
   "source": [
    "#  Chapter 1: Data Preprocessing\n",
    "\n",
    "\n",
    "## Data Prepreocessing for Unit Data"
   ]
  },
  {
   "cell_type": "markdown",
   "id": "565eba2b",
   "metadata": {},
   "source": [
    "This is what the current dataframe called 'units' looks like. The units dataframe contains the playrate and the average placement of each TFT unit for the current patch (12.8) and the previous patch (12.7). However, the dataset currently states that all the entries are from the current patch. Also worth noting that the playrate is from a scale of 8. In this case, Brand is used by 0.49 of the 8 players on average every game. The unit's name and cost is also included in the table."
   ]
  },
  {
   "cell_type": "code",
   "execution_count": 4,
   "id": "0d006e02",
   "metadata": {},
   "outputs": [
    {
     "data": {
      "text/html": [
       "<div>\n",
       "<style scoped>\n",
       "    .dataframe tbody tr th:only-of-type {\n",
       "        vertical-align: middle;\n",
       "    }\n",
       "\n",
       "    .dataframe tbody tr th {\n",
       "        vertical-align: top;\n",
       "    }\n",
       "\n",
       "    .dataframe thead th {\n",
       "        text-align: right;\n",
       "    }\n",
       "</style>\n",
       "<table border=\"1\" class=\"dataframe\">\n",
       "  <thead>\n",
       "    <tr style=\"text-align: right;\">\n",
       "      <th></th>\n",
       "      <th>unit</th>\n",
       "      <th>playrate</th>\n",
       "      <th>placement</th>\n",
       "      <th>patch</th>\n",
       "      <th>cost</th>\n",
       "    </tr>\n",
       "  </thead>\n",
       "  <tbody>\n",
       "    <tr>\n",
       "      <th>0</th>\n",
       "      <td>Brand</td>\n",
       "      <td>0.49</td>\n",
       "      <td>4.61</td>\n",
       "      <td>current</td>\n",
       "      <td>1</td>\n",
       "    </tr>\n",
       "    <tr>\n",
       "      <th>1</th>\n",
       "      <td>Caitlyn</td>\n",
       "      <td>0.49</td>\n",
       "      <td>4.64</td>\n",
       "      <td>current</td>\n",
       "      <td>1</td>\n",
       "    </tr>\n",
       "    <tr>\n",
       "      <th>2</th>\n",
       "      <td>Camille</td>\n",
       "      <td>0.84</td>\n",
       "      <td>4.50</td>\n",
       "      <td>current</td>\n",
       "      <td>1</td>\n",
       "    </tr>\n",
       "    <tr>\n",
       "      <th>3</th>\n",
       "      <td>Darius</td>\n",
       "      <td>0.72</td>\n",
       "      <td>4.34</td>\n",
       "      <td>current</td>\n",
       "      <td>1</td>\n",
       "    </tr>\n",
       "    <tr>\n",
       "      <th>4</th>\n",
       "      <td>Ezreal</td>\n",
       "      <td>0.86</td>\n",
       "      <td>4.51</td>\n",
       "      <td>current</td>\n",
       "      <td>1</td>\n",
       "    </tr>\n",
       "    <tr>\n",
       "      <th>59</th>\n",
       "      <td>Zeri</td>\n",
       "      <td>0.92</td>\n",
       "      <td>4.00</td>\n",
       "      <td>current</td>\n",
       "      <td>5</td>\n",
       "    </tr>\n",
       "    <tr>\n",
       "      <th>60</th>\n",
       "      <td>Brand</td>\n",
       "      <td>0.58</td>\n",
       "      <td>4.63</td>\n",
       "      <td>current</td>\n",
       "      <td>1</td>\n",
       "    </tr>\n",
       "    <tr>\n",
       "      <th>61</th>\n",
       "      <td>Caitlyn</td>\n",
       "      <td>0.52</td>\n",
       "      <td>4.61</td>\n",
       "      <td>current</td>\n",
       "      <td>1</td>\n",
       "    </tr>\n",
       "    <tr>\n",
       "      <th>62</th>\n",
       "      <td>Camille</td>\n",
       "      <td>0.80</td>\n",
       "      <td>4.56</td>\n",
       "      <td>current</td>\n",
       "      <td>1</td>\n",
       "    </tr>\n",
       "    <tr>\n",
       "      <th>63</th>\n",
       "      <td>Darius</td>\n",
       "      <td>0.50</td>\n",
       "      <td>4.60</td>\n",
       "      <td>current</td>\n",
       "      <td>1</td>\n",
       "    </tr>\n",
       "    <tr>\n",
       "      <th>115</th>\n",
       "      <td>Silco</td>\n",
       "      <td>1.59</td>\n",
       "      <td>3.71</td>\n",
       "      <td>current</td>\n",
       "      <td>5</td>\n",
       "    </tr>\n",
       "    <tr>\n",
       "      <th>116</th>\n",
       "      <td>Tahm Kench</td>\n",
       "      <td>1.17</td>\n",
       "      <td>4.00</td>\n",
       "      <td>current</td>\n",
       "      <td>5</td>\n",
       "    </tr>\n",
       "    <tr>\n",
       "      <th>117</th>\n",
       "      <td>Veigar</td>\n",
       "      <td>0.12</td>\n",
       "      <td>2.31</td>\n",
       "      <td>current</td>\n",
       "      <td>5</td>\n",
       "    </tr>\n",
       "    <tr>\n",
       "      <th>118</th>\n",
       "      <td>Viktor</td>\n",
       "      <td>1.30</td>\n",
       "      <td>3.88</td>\n",
       "      <td>current</td>\n",
       "      <td>5</td>\n",
       "    </tr>\n",
       "    <tr>\n",
       "      <th>119</th>\n",
       "      <td>Zeri</td>\n",
       "      <td>0.95</td>\n",
       "      <td>4.01</td>\n",
       "      <td>current</td>\n",
       "      <td>5</td>\n",
       "    </tr>\n",
       "  </tbody>\n",
       "</table>\n",
       "</div>"
      ],
      "text/plain": [
       "           unit  playrate  placement    patch  cost\n",
       "0         Brand      0.49       4.61  current     1\n",
       "1       Caitlyn      0.49       4.64  current     1\n",
       "2       Camille      0.84       4.50  current     1\n",
       "3        Darius      0.72       4.34  current     1\n",
       "4        Ezreal      0.86       4.51  current     1\n",
       "59         Zeri      0.92       4.00  current     5\n",
       "60        Brand      0.58       4.63  current     1\n",
       "61      Caitlyn      0.52       4.61  current     1\n",
       "62      Camille      0.80       4.56  current     1\n",
       "63       Darius      0.50       4.60  current     1\n",
       "115       Silco      1.59       3.71  current     5\n",
       "116  Tahm Kench      1.17       4.00  current     5\n",
       "117      Veigar      0.12       2.31  current     5\n",
       "118      Viktor      1.30       3.88  current     5\n",
       "119        Zeri      0.95       4.01  current     5"
      ]
     },
     "execution_count": 4,
     "metadata": {},
     "output_type": "execute_result"
    }
   ],
   "source": [
    "pd.concat([units.head(), units[59:64], units.tail()])"
   ]
  },
  {
   "cell_type": "code",
   "execution_count": 5,
   "id": "0268739d",
   "metadata": {},
   "outputs": [
    {
     "data": {
      "text/html": [
       "<div>\n",
       "<style scoped>\n",
       "    .dataframe tbody tr th:only-of-type {\n",
       "        vertical-align: middle;\n",
       "    }\n",
       "\n",
       "    .dataframe tbody tr th {\n",
       "        vertical-align: top;\n",
       "    }\n",
       "\n",
       "    .dataframe thead th {\n",
       "        text-align: right;\n",
       "    }\n",
       "</style>\n",
       "<table border=\"1\" class=\"dataframe\">\n",
       "  <thead>\n",
       "    <tr style=\"text-align: right;\">\n",
       "      <th></th>\n",
       "      <th>unit</th>\n",
       "      <th>playrate</th>\n",
       "      <th>placement</th>\n",
       "      <th>patch</th>\n",
       "      <th>cost</th>\n",
       "    </tr>\n",
       "  </thead>\n",
       "  <tbody>\n",
       "    <tr>\n",
       "      <th>59</th>\n",
       "      <td>Zeri</td>\n",
       "      <td>0.92</td>\n",
       "      <td>4.00</td>\n",
       "      <td>current</td>\n",
       "      <td>5</td>\n",
       "    </tr>\n",
       "    <tr>\n",
       "      <th>60</th>\n",
       "      <td>Brand</td>\n",
       "      <td>0.58</td>\n",
       "      <td>4.63</td>\n",
       "      <td>current</td>\n",
       "      <td>1</td>\n",
       "    </tr>\n",
       "    <tr>\n",
       "      <th>61</th>\n",
       "      <td>Caitlyn</td>\n",
       "      <td>0.52</td>\n",
       "      <td>4.61</td>\n",
       "      <td>current</td>\n",
       "      <td>1</td>\n",
       "    </tr>\n",
       "    <tr>\n",
       "      <th>62</th>\n",
       "      <td>Camille</td>\n",
       "      <td>0.80</td>\n",
       "      <td>4.56</td>\n",
       "      <td>current</td>\n",
       "      <td>1</td>\n",
       "    </tr>\n",
       "    <tr>\n",
       "      <th>63</th>\n",
       "      <td>Darius</td>\n",
       "      <td>0.50</td>\n",
       "      <td>4.60</td>\n",
       "      <td>current</td>\n",
       "      <td>1</td>\n",
       "    </tr>\n",
       "  </tbody>\n",
       "</table>\n",
       "</div>"
      ],
      "text/plain": [
       "       unit  playrate  placement    patch  cost\n",
       "59     Zeri      0.92       4.00  current     5\n",
       "60    Brand      0.58       4.63  current     1\n",
       "61  Caitlyn      0.52       4.61  current     1\n",
       "62  Camille      0.80       4.56  current     1\n",
       "63   Darius      0.50       4.60  current     1"
      ]
     },
     "execution_count": 5,
     "metadata": {},
     "output_type": "execute_result"
    }
   ],
   "source": [
    "units[59:64]"
   ]
  },
  {
   "cell_type": "markdown",
   "id": "8a31b552",
   "metadata": {},
   "source": [
    "From knowledge of how the json file was extracted, entries 1 to 59 are from the current patch, while 60-119 are from the previous patch. As a result, entries 60 to 119 are updated to show patch 12.7, then the dataframes are separated."
   ]
  },
  {
   "cell_type": "code",
   "execution_count": 6,
   "id": "fbd46c02",
   "metadata": {
    "hide_input": true
   },
   "outputs": [
    {
     "data": {
      "text/html": [
       "<div>\n",
       "<style scoped>\n",
       "    .dataframe tbody tr th:only-of-type {\n",
       "        vertical-align: middle;\n",
       "    }\n",
       "\n",
       "    .dataframe tbody tr th {\n",
       "        vertical-align: top;\n",
       "    }\n",
       "\n",
       "    .dataframe thead th {\n",
       "        text-align: right;\n",
       "    }\n",
       "</style>\n",
       "<table border=\"1\" class=\"dataframe\">\n",
       "  <thead>\n",
       "    <tr style=\"text-align: right;\">\n",
       "      <th></th>\n",
       "      <th>unit</th>\n",
       "      <th>playrate</th>\n",
       "      <th>placement</th>\n",
       "      <th>patch</th>\n",
       "      <th>cost</th>\n",
       "    </tr>\n",
       "  </thead>\n",
       "  <tbody>\n",
       "    <tr>\n",
       "      <th>0</th>\n",
       "      <td>Brand</td>\n",
       "      <td>0.49</td>\n",
       "      <td>4.61</td>\n",
       "      <td>current</td>\n",
       "      <td>1</td>\n",
       "    </tr>\n",
       "    <tr>\n",
       "      <th>1</th>\n",
       "      <td>Caitlyn</td>\n",
       "      <td>0.49</td>\n",
       "      <td>4.64</td>\n",
       "      <td>current</td>\n",
       "      <td>1</td>\n",
       "    </tr>\n",
       "    <tr>\n",
       "      <th>2</th>\n",
       "      <td>Camille</td>\n",
       "      <td>0.84</td>\n",
       "      <td>4.50</td>\n",
       "      <td>current</td>\n",
       "      <td>1</td>\n",
       "    </tr>\n",
       "    <tr>\n",
       "      <th>3</th>\n",
       "      <td>Darius</td>\n",
       "      <td>0.72</td>\n",
       "      <td>4.34</td>\n",
       "      <td>current</td>\n",
       "      <td>1</td>\n",
       "    </tr>\n",
       "    <tr>\n",
       "      <th>4</th>\n",
       "      <td>Ezreal</td>\n",
       "      <td>0.86</td>\n",
       "      <td>4.51</td>\n",
       "      <td>current</td>\n",
       "      <td>1</td>\n",
       "    </tr>\n",
       "    <tr>\n",
       "      <th>60</th>\n",
       "      <td>Brand</td>\n",
       "      <td>0.58</td>\n",
       "      <td>4.63</td>\n",
       "      <td>12.7</td>\n",
       "      <td>1</td>\n",
       "    </tr>\n",
       "    <tr>\n",
       "      <th>61</th>\n",
       "      <td>Caitlyn</td>\n",
       "      <td>0.52</td>\n",
       "      <td>4.61</td>\n",
       "      <td>12.7</td>\n",
       "      <td>1</td>\n",
       "    </tr>\n",
       "    <tr>\n",
       "      <th>62</th>\n",
       "      <td>Camille</td>\n",
       "      <td>0.80</td>\n",
       "      <td>4.56</td>\n",
       "      <td>12.7</td>\n",
       "      <td>1</td>\n",
       "    </tr>\n",
       "    <tr>\n",
       "      <th>63</th>\n",
       "      <td>Darius</td>\n",
       "      <td>0.50</td>\n",
       "      <td>4.60</td>\n",
       "      <td>12.7</td>\n",
       "      <td>1</td>\n",
       "    </tr>\n",
       "    <tr>\n",
       "      <th>64</th>\n",
       "      <td>Ezreal</td>\n",
       "      <td>0.92</td>\n",
       "      <td>4.29</td>\n",
       "      <td>12.7</td>\n",
       "      <td>1</td>\n",
       "    </tr>\n",
       "  </tbody>\n",
       "</table>\n",
       "</div>"
      ],
      "text/plain": [
       "       unit  playrate  placement    patch  cost\n",
       "0     Brand      0.49       4.61  current     1\n",
       "1   Caitlyn      0.49       4.64  current     1\n",
       "2   Camille      0.84       4.50  current     1\n",
       "3    Darius      0.72       4.34  current     1\n",
       "4    Ezreal      0.86       4.51  current     1\n",
       "60    Brand      0.58       4.63     12.7     1\n",
       "61  Caitlyn      0.52       4.61     12.7     1\n",
       "62  Camille      0.80       4.56     12.7     1\n",
       "63   Darius      0.50       4.60     12.7     1\n",
       "64   Ezreal      0.92       4.29     12.7     1"
      ]
     },
     "execution_count": 6,
     "metadata": {},
     "output_type": "execute_result"
    }
   ],
   "source": [
    "duplicate_indices = [i for i in range(60, 120)]\n",
    "for index in duplicate_indices:\n",
    "    units.at[index, 'patch'] = '12.7'\n",
    "old = units[units[\"patch\"] == '12.7']\n",
    "current = units[units[\"patch\"] != '12.7']\n",
    "pd.concat([current.head(), old.head()])\n"
   ]
  },
  {
   "cell_type": "markdown",
   "id": "bd6318ee",
   "metadata": {},
   "source": [
    "Merge/Join the two dataframes on the column 'unit'.\n"
   ]
  },
  {
   "cell_type": "code",
   "execution_count": 7,
   "id": "34775504",
   "metadata": {
    "hide_input": false
   },
   "outputs": [
    {
     "data": {
      "text/html": [
       "<div>\n",
       "<style scoped>\n",
       "    .dataframe tbody tr th:only-of-type {\n",
       "        vertical-align: middle;\n",
       "    }\n",
       "\n",
       "    .dataframe tbody tr th {\n",
       "        vertical-align: top;\n",
       "    }\n",
       "\n",
       "    .dataframe thead th {\n",
       "        text-align: right;\n",
       "    }\n",
       "</style>\n",
       "<table border=\"1\" class=\"dataframe\">\n",
       "  <thead>\n",
       "    <tr style=\"text-align: right;\">\n",
       "      <th></th>\n",
       "      <th>unit</th>\n",
       "      <th>playrate_x</th>\n",
       "      <th>placement_x</th>\n",
       "      <th>patch_x</th>\n",
       "      <th>cost_x</th>\n",
       "      <th>playrate_y</th>\n",
       "      <th>placement_y</th>\n",
       "      <th>patch_y</th>\n",
       "      <th>cost_y</th>\n",
       "    </tr>\n",
       "  </thead>\n",
       "  <tbody>\n",
       "    <tr>\n",
       "      <th>0</th>\n",
       "      <td>Brand</td>\n",
       "      <td>0.58</td>\n",
       "      <td>4.63</td>\n",
       "      <td>12.7</td>\n",
       "      <td>1</td>\n",
       "      <td>0.49</td>\n",
       "      <td>4.61</td>\n",
       "      <td>current</td>\n",
       "      <td>1</td>\n",
       "    </tr>\n",
       "    <tr>\n",
       "      <th>1</th>\n",
       "      <td>Caitlyn</td>\n",
       "      <td>0.52</td>\n",
       "      <td>4.61</td>\n",
       "      <td>12.7</td>\n",
       "      <td>1</td>\n",
       "      <td>0.49</td>\n",
       "      <td>4.64</td>\n",
       "      <td>current</td>\n",
       "      <td>1</td>\n",
       "    </tr>\n",
       "    <tr>\n",
       "      <th>2</th>\n",
       "      <td>Camille</td>\n",
       "      <td>0.80</td>\n",
       "      <td>4.56</td>\n",
       "      <td>12.7</td>\n",
       "      <td>1</td>\n",
       "      <td>0.84</td>\n",
       "      <td>4.50</td>\n",
       "      <td>current</td>\n",
       "      <td>1</td>\n",
       "    </tr>\n",
       "    <tr>\n",
       "      <th>3</th>\n",
       "      <td>Darius</td>\n",
       "      <td>0.50</td>\n",
       "      <td>4.60</td>\n",
       "      <td>12.7</td>\n",
       "      <td>1</td>\n",
       "      <td>0.72</td>\n",
       "      <td>4.34</td>\n",
       "      <td>current</td>\n",
       "      <td>1</td>\n",
       "    </tr>\n",
       "    <tr>\n",
       "      <th>4</th>\n",
       "      <td>Ezreal</td>\n",
       "      <td>0.92</td>\n",
       "      <td>4.29</td>\n",
       "      <td>12.7</td>\n",
       "      <td>1</td>\n",
       "      <td>0.86</td>\n",
       "      <td>4.51</td>\n",
       "      <td>current</td>\n",
       "      <td>1</td>\n",
       "    </tr>\n",
       "  </tbody>\n",
       "</table>\n",
       "</div>"
      ],
      "text/plain": [
       "      unit  playrate_x  placement_x patch_x  cost_x  playrate_y  placement_y  \\\n",
       "0    Brand        0.58         4.63    12.7       1        0.49         4.61   \n",
       "1  Caitlyn        0.52         4.61    12.7       1        0.49         4.64   \n",
       "2  Camille        0.80         4.56    12.7       1        0.84         4.50   \n",
       "3   Darius        0.50         4.60    12.7       1        0.72         4.34   \n",
       "4   Ezreal        0.92         4.29    12.7       1        0.86         4.51   \n",
       "\n",
       "   patch_y  cost_y  \n",
       "0  current       1  \n",
       "1  current       1  \n",
       "2  current       1  \n",
       "3  current       1  \n",
       "4  current       1  "
      ]
     },
     "execution_count": 7,
     "metadata": {},
     "output_type": "execute_result"
    }
   ],
   "source": [
    "joined_units = pd.merge(old, current, on=\"unit\")\n",
    "joined_units.head()"
   ]
  },
  {
   "cell_type": "markdown",
   "id": "5e34d78b",
   "metadata": {},
   "source": [
    "Cleaning column names and dropping unused columns:"
   ]
  },
  {
   "cell_type": "code",
   "execution_count": 8,
   "id": "d65b476f",
   "metadata": {
    "hide_input": true
   },
   "outputs": [
    {
     "data": {
      "text/html": [
       "<div>\n",
       "<style scoped>\n",
       "    .dataframe tbody tr th:only-of-type {\n",
       "        vertical-align: middle;\n",
       "    }\n",
       "\n",
       "    .dataframe tbody tr th {\n",
       "        vertical-align: top;\n",
       "    }\n",
       "\n",
       "    .dataframe thead th {\n",
       "        text-align: right;\n",
       "    }\n",
       "</style>\n",
       "<table border=\"1\" class=\"dataframe\">\n",
       "  <thead>\n",
       "    <tr style=\"text-align: right;\">\n",
       "      <th></th>\n",
       "      <th>unit</th>\n",
       "      <th>12.7 Playrate</th>\n",
       "      <th>12.7 Placement</th>\n",
       "      <th>12.8 Playrate</th>\n",
       "      <th>12.8 Placement</th>\n",
       "      <th>Cost</th>\n",
       "    </tr>\n",
       "  </thead>\n",
       "  <tbody>\n",
       "    <tr>\n",
       "      <th>0</th>\n",
       "      <td>Brand</td>\n",
       "      <td>0.58</td>\n",
       "      <td>4.63</td>\n",
       "      <td>0.49</td>\n",
       "      <td>4.61</td>\n",
       "      <td>1</td>\n",
       "    </tr>\n",
       "    <tr>\n",
       "      <th>1</th>\n",
       "      <td>Caitlyn</td>\n",
       "      <td>0.52</td>\n",
       "      <td>4.61</td>\n",
       "      <td>0.49</td>\n",
       "      <td>4.64</td>\n",
       "      <td>1</td>\n",
       "    </tr>\n",
       "    <tr>\n",
       "      <th>2</th>\n",
       "      <td>Camille</td>\n",
       "      <td>0.80</td>\n",
       "      <td>4.56</td>\n",
       "      <td>0.84</td>\n",
       "      <td>4.50</td>\n",
       "      <td>1</td>\n",
       "    </tr>\n",
       "    <tr>\n",
       "      <th>3</th>\n",
       "      <td>Darius</td>\n",
       "      <td>0.50</td>\n",
       "      <td>4.60</td>\n",
       "      <td>0.72</td>\n",
       "      <td>4.34</td>\n",
       "      <td>1</td>\n",
       "    </tr>\n",
       "    <tr>\n",
       "      <th>4</th>\n",
       "      <td>Ezreal</td>\n",
       "      <td>0.92</td>\n",
       "      <td>4.29</td>\n",
       "      <td>0.86</td>\n",
       "      <td>4.51</td>\n",
       "      <td>1</td>\n",
       "    </tr>\n",
       "  </tbody>\n",
       "</table>\n",
       "</div>"
      ],
      "text/plain": [
       "      unit  12.7 Playrate  12.7 Placement  12.8 Playrate  12.8 Placement  Cost\n",
       "0    Brand           0.58            4.63           0.49            4.61     1\n",
       "1  Caitlyn           0.52            4.61           0.49            4.64     1\n",
       "2  Camille           0.80            4.56           0.84            4.50     1\n",
       "3   Darius           0.50            4.60           0.72            4.34     1\n",
       "4   Ezreal           0.92            4.29           0.86            4.51     1"
      ]
     },
     "execution_count": 8,
     "metadata": {},
     "output_type": "execute_result"
    }
   ],
   "source": [
    "joined_units.rename(columns = {'playrate_x': '12.7 Playrate', 'placement_x': '12.7 Placement', 'playrate_y': '12.8 Playrate', 'placement_y': '12.8 Placement', 'cost_y': 'Cost'}, inplace=True)\n",
    "joined_units.drop(['patch_x', 'patch_y', 'cost_x'], axis=1, inplace=True)\n",
    "joined_units.head()"
   ]
  },
  {
   "cell_type": "markdown",
   "id": "ea7baf59",
   "metadata": {},
   "source": [
    "Making a new column showing the difference in playrate/placement by unit. Playrate is also adjusted to a percentage value as mentioned prior.  "
   ]
  },
  {
   "cell_type": "code",
   "execution_count": 9,
   "id": "5627f7ba",
   "metadata": {
    "hide_input": true
   },
   "outputs": [
    {
     "data": {
      "text/html": [
       "<div>\n",
       "<style scoped>\n",
       "    .dataframe tbody tr th:only-of-type {\n",
       "        vertical-align: middle;\n",
       "    }\n",
       "\n",
       "    .dataframe tbody tr th {\n",
       "        vertical-align: top;\n",
       "    }\n",
       "\n",
       "    .dataframe thead th {\n",
       "        text-align: right;\n",
       "    }\n",
       "</style>\n",
       "<table border=\"1\" class=\"dataframe\">\n",
       "  <thead>\n",
       "    <tr style=\"text-align: right;\">\n",
       "      <th></th>\n",
       "      <th>unit</th>\n",
       "      <th>12.7 Playrate</th>\n",
       "      <th>12.7 Placement</th>\n",
       "      <th>12.8 Playrate</th>\n",
       "      <th>12.8 Placement</th>\n",
       "      <th>Cost</th>\n",
       "      <th>playrate_change</th>\n",
       "      <th>placement_change</th>\n",
       "    </tr>\n",
       "  </thead>\n",
       "  <tbody>\n",
       "    <tr>\n",
       "      <th>0</th>\n",
       "      <td>Brand</td>\n",
       "      <td>7.25</td>\n",
       "      <td>4.63</td>\n",
       "      <td>6.125</td>\n",
       "      <td>4.61</td>\n",
       "      <td>1</td>\n",
       "      <td>-1.125</td>\n",
       "      <td>-0.02</td>\n",
       "    </tr>\n",
       "    <tr>\n",
       "      <th>1</th>\n",
       "      <td>Caitlyn</td>\n",
       "      <td>6.50</td>\n",
       "      <td>4.61</td>\n",
       "      <td>6.125</td>\n",
       "      <td>4.64</td>\n",
       "      <td>1</td>\n",
       "      <td>-0.375</td>\n",
       "      <td>0.03</td>\n",
       "    </tr>\n",
       "    <tr>\n",
       "      <th>2</th>\n",
       "      <td>Camille</td>\n",
       "      <td>10.00</td>\n",
       "      <td>4.56</td>\n",
       "      <td>10.500</td>\n",
       "      <td>4.50</td>\n",
       "      <td>1</td>\n",
       "      <td>0.500</td>\n",
       "      <td>-0.06</td>\n",
       "    </tr>\n",
       "    <tr>\n",
       "      <th>3</th>\n",
       "      <td>Darius</td>\n",
       "      <td>6.25</td>\n",
       "      <td>4.60</td>\n",
       "      <td>9.000</td>\n",
       "      <td>4.34</td>\n",
       "      <td>1</td>\n",
       "      <td>2.750</td>\n",
       "      <td>-0.26</td>\n",
       "    </tr>\n",
       "    <tr>\n",
       "      <th>4</th>\n",
       "      <td>Ezreal</td>\n",
       "      <td>11.50</td>\n",
       "      <td>4.29</td>\n",
       "      <td>10.750</td>\n",
       "      <td>4.51</td>\n",
       "      <td>1</td>\n",
       "      <td>-0.750</td>\n",
       "      <td>0.22</td>\n",
       "    </tr>\n",
       "  </tbody>\n",
       "</table>\n",
       "</div>"
      ],
      "text/plain": [
       "      unit  12.7 Playrate  12.7 Placement  12.8 Playrate  12.8 Placement  \\\n",
       "0    Brand           7.25            4.63          6.125            4.61   \n",
       "1  Caitlyn           6.50            4.61          6.125            4.64   \n",
       "2  Camille          10.00            4.56         10.500            4.50   \n",
       "3   Darius           6.25            4.60          9.000            4.34   \n",
       "4   Ezreal          11.50            4.29         10.750            4.51   \n",
       "\n",
       "   Cost  playrate_change  placement_change  \n",
       "0     1           -1.125             -0.02  \n",
       "1     1           -0.375              0.03  \n",
       "2     1            0.500             -0.06  \n",
       "3     1            2.750             -0.26  \n",
       "4     1           -0.750              0.22  "
      ]
     },
     "execution_count": 9,
     "metadata": {},
     "output_type": "execute_result"
    }
   ],
   "source": [
    "joined_units['12.7 Playrate'] = joined_units['12.7 Playrate'] * (100/8)\n",
    "joined_units['12.8 Playrate'] = joined_units['12.8 Playrate'] * (100/8)\n",
    "joined_units['playrate_change'] = joined_units['12.8 Playrate'] - joined_units['12.7 Playrate']\n",
    "joined_units['placement_change'] = joined_units['12.8 Placement'] - joined_units['12.7 Placement']\n",
    "joined_units.head()"
   ]
  },
  {
   "cell_type": "markdown",
   "id": "de4ac0a4",
   "metadata": {},
   "source": [
    "## Data Prepreocessing for Profile Data\n",
    "\n",
    "This is what the dataframe titled 'profiles' currently looks like, obtained from web scraping inviduals profiles on the site tactics.tools. Contains the user and a set of ratings made by the site. The dataframe titled 'players' contains summary stats of the top 40 players on the leaderboard on tactics.tools/leaderboards/na at the time the site was scraped (May 7, 2022). It's worth noting not every profil was able to be scraped. "
   ]
  },
  {
   "cell_type": "code",
   "execution_count": 10,
   "id": "9d1877c2",
   "metadata": {
    "hide_input": true
   },
   "outputs": [
    {
     "data": {
      "text/html": [
       "<div>\n",
       "<style scoped>\n",
       "    .dataframe tbody tr th:only-of-type {\n",
       "        vertical-align: middle;\n",
       "    }\n",
       "\n",
       "    .dataframe tbody tr th {\n",
       "        vertical-align: top;\n",
       "    }\n",
       "\n",
       "    .dataframe thead th {\n",
       "        text-align: right;\n",
       "    }\n",
       "</style>\n",
       "<table border=\"1\" class=\"dataframe\">\n",
       "  <thead>\n",
       "    <tr style=\"text-align: right;\">\n",
       "      <th></th>\n",
       "      <th>Compositions</th>\n",
       "      <th>Econ</th>\n",
       "      <th>Flexibility</th>\n",
       "      <th>Execution</th>\n",
       "      <th>Items</th>\n",
       "      <th>name</th>\n",
       "    </tr>\n",
       "  </thead>\n",
       "  <tbody>\n",
       "    <tr>\n",
       "      <th>0</th>\n",
       "      <td>S+</td>\n",
       "      <td>S+</td>\n",
       "      <td>C</td>\n",
       "      <td>A</td>\n",
       "      <td>B</td>\n",
       "      <td>Dishsoap2</td>\n",
       "    </tr>\n",
       "    <tr>\n",
       "      <th>1</th>\n",
       "      <td>S+</td>\n",
       "      <td>S+</td>\n",
       "      <td>C</td>\n",
       "      <td>S</td>\n",
       "      <td>A</td>\n",
       "      <td>Amde</td>\n",
       "    </tr>\n",
       "    <tr>\n",
       "      <th>2</th>\n",
       "      <td>S+</td>\n",
       "      <td>S</td>\n",
       "      <td>A</td>\n",
       "      <td>A</td>\n",
       "      <td>A</td>\n",
       "      <td>BestSatoJP</td>\n",
       "    </tr>\n",
       "    <tr>\n",
       "      <th>3</th>\n",
       "      <td>S+</td>\n",
       "      <td>A</td>\n",
       "      <td>F</td>\n",
       "      <td>S</td>\n",
       "      <td>S</td>\n",
       "      <td>CN smùrfing</td>\n",
       "    </tr>\n",
       "    <tr>\n",
       "      <th>4</th>\n",
       "      <td>S+</td>\n",
       "      <td>A</td>\n",
       "      <td>A</td>\n",
       "      <td>A</td>\n",
       "      <td>A</td>\n",
       "      <td>Triple8s</td>\n",
       "    </tr>\n",
       "  </tbody>\n",
       "</table>\n",
       "</div>"
      ],
      "text/plain": [
       "  Compositions Econ Flexibility Execution Items         name\n",
       "0           S+   S+           C         A     B    Dishsoap2\n",
       "1           S+   S+           C         S     A         Amde\n",
       "2           S+    S           A         A     A   BestSatoJP\n",
       "3           S+    A           F         S     S  CN smùrfing\n",
       "4           S+    A           A         A     A     Triple8s"
      ]
     },
     "execution_count": 10,
     "metadata": {},
     "output_type": "execute_result"
    }
   ],
   "source": [
    "profiles.head()"
   ]
  },
  {
   "cell_type": "code",
   "execution_count": 11,
   "id": "63152aba",
   "metadata": {
    "hide_input": true
   },
   "outputs": [
    {
     "data": {
      "text/html": [
       "<div>\n",
       "<style scoped>\n",
       "    .dataframe tbody tr th:only-of-type {\n",
       "        vertical-align: middle;\n",
       "    }\n",
       "\n",
       "    .dataframe tbody tr th {\n",
       "        vertical-align: top;\n",
       "    }\n",
       "\n",
       "    .dataframe thead th {\n",
       "        text-align: right;\n",
       "    }\n",
       "</style>\n",
       "<table border=\"1\" class=\"dataframe\">\n",
       "  <thead>\n",
       "    <tr style=\"text-align: right;\">\n",
       "      <th></th>\n",
       "      <th>rank</th>\n",
       "      <th>name</th>\n",
       "      <th>patch-lp</th>\n",
       "      <th>lp</th>\n",
       "      <th>patch-games</th>\n",
       "      <th>games</th>\n",
       "      <th>link</th>\n",
       "    </tr>\n",
       "  </thead>\n",
       "  <tbody>\n",
       "    <tr>\n",
       "      <th>0</th>\n",
       "      <td>1</td>\n",
       "      <td>sètsuko</td>\n",
       "      <td>-29</td>\n",
       "      <td>1662</td>\n",
       "      <td>62</td>\n",
       "      <td>641</td>\n",
       "      <td>/player/na/s%C3%A8tsuko</td>\n",
       "    </tr>\n",
       "    <tr>\n",
       "      <th>1</th>\n",
       "      <td>2</td>\n",
       "      <td>Wíthin</td>\n",
       "      <td>-35</td>\n",
       "      <td>1639</td>\n",
       "      <td>34</td>\n",
       "      <td>375</td>\n",
       "      <td>/player/na/W%C3%ADthin</td>\n",
       "    </tr>\n",
       "    <tr>\n",
       "      <th>2</th>\n",
       "      <td>3</td>\n",
       "      <td>Darth Nub</td>\n",
       "      <td>397</td>\n",
       "      <td>1606</td>\n",
       "      <td>56</td>\n",
       "      <td>580</td>\n",
       "      <td>/player/na/Darth%20Nub</td>\n",
       "    </tr>\n",
       "    <tr>\n",
       "      <th>3</th>\n",
       "      <td>4</td>\n",
       "      <td>Subha</td>\n",
       "      <td>713</td>\n",
       "      <td>1604</td>\n",
       "      <td>69</td>\n",
       "      <td>434</td>\n",
       "      <td>/player/na/Subha</td>\n",
       "    </tr>\n",
       "    <tr>\n",
       "      <th>4</th>\n",
       "      <td>6</td>\n",
       "      <td>tapiokaoisii</td>\n",
       "      <td>117</td>\n",
       "      <td>1527</td>\n",
       "      <td>106</td>\n",
       "      <td>323</td>\n",
       "      <td>/player/na/tapiokaoisii</td>\n",
       "    </tr>\n",
       "  </tbody>\n",
       "</table>\n",
       "</div>"
      ],
      "text/plain": [
       "   rank          name  patch-lp    lp  patch-games  games  \\\n",
       "0     1       sètsuko       -29  1662           62    641   \n",
       "1     2        Wíthin       -35  1639           34    375   \n",
       "2     3     Darth Nub       397  1606           56    580   \n",
       "3     4         Subha       713  1604           69    434   \n",
       "4     6  tapiokaoisii       117  1527          106    323   \n",
       "\n",
       "                      link  \n",
       "0  /player/na/s%C3%A8tsuko  \n",
       "1   /player/na/W%C3%ADthin  \n",
       "2   /player/na/Darth%20Nub  \n",
       "3         /player/na/Subha  \n",
       "4  /player/na/tapiokaoisii  "
      ]
     },
     "execution_count": 11,
     "metadata": {},
     "output_type": "execute_result"
    }
   ],
   "source": [
    "players.head()"
   ]
  },
  {
   "cell_type": "markdown",
   "id": "ffd11fd9",
   "metadata": {},
   "source": [
    "The column 'link' was used for getting a list of profiles to scrape from for the 'profiles' dataframe. It will be dropped as it's no longer needed."
   ]
  },
  {
   "cell_type": "code",
   "execution_count": 12,
   "id": "aa8b9733",
   "metadata": {
    "hide_input": true
   },
   "outputs": [
    {
     "data": {
      "text/html": [
       "<div>\n",
       "<style scoped>\n",
       "    .dataframe tbody tr th:only-of-type {\n",
       "        vertical-align: middle;\n",
       "    }\n",
       "\n",
       "    .dataframe tbody tr th {\n",
       "        vertical-align: top;\n",
       "    }\n",
       "\n",
       "    .dataframe thead th {\n",
       "        text-align: right;\n",
       "    }\n",
       "</style>\n",
       "<table border=\"1\" class=\"dataframe\">\n",
       "  <thead>\n",
       "    <tr style=\"text-align: right;\">\n",
       "      <th></th>\n",
       "      <th>rank</th>\n",
       "      <th>name</th>\n",
       "      <th>patch-lp</th>\n",
       "      <th>lp</th>\n",
       "      <th>patch-games</th>\n",
       "      <th>games</th>\n",
       "    </tr>\n",
       "  </thead>\n",
       "  <tbody>\n",
       "    <tr>\n",
       "      <th>0</th>\n",
       "      <td>1</td>\n",
       "      <td>sètsuko</td>\n",
       "      <td>-29</td>\n",
       "      <td>1662</td>\n",
       "      <td>62</td>\n",
       "      <td>641</td>\n",
       "    </tr>\n",
       "    <tr>\n",
       "      <th>1</th>\n",
       "      <td>2</td>\n",
       "      <td>Wíthin</td>\n",
       "      <td>-35</td>\n",
       "      <td>1639</td>\n",
       "      <td>34</td>\n",
       "      <td>375</td>\n",
       "    </tr>\n",
       "    <tr>\n",
       "      <th>2</th>\n",
       "      <td>3</td>\n",
       "      <td>Darth Nub</td>\n",
       "      <td>397</td>\n",
       "      <td>1606</td>\n",
       "      <td>56</td>\n",
       "      <td>580</td>\n",
       "    </tr>\n",
       "    <tr>\n",
       "      <th>3</th>\n",
       "      <td>4</td>\n",
       "      <td>Subha</td>\n",
       "      <td>713</td>\n",
       "      <td>1604</td>\n",
       "      <td>69</td>\n",
       "      <td>434</td>\n",
       "    </tr>\n",
       "    <tr>\n",
       "      <th>4</th>\n",
       "      <td>6</td>\n",
       "      <td>tapiokaoisii</td>\n",
       "      <td>117</td>\n",
       "      <td>1527</td>\n",
       "      <td>106</td>\n",
       "      <td>323</td>\n",
       "    </tr>\n",
       "  </tbody>\n",
       "</table>\n",
       "</div>"
      ],
      "text/plain": [
       "   rank          name  patch-lp    lp  patch-games  games\n",
       "0     1       sètsuko       -29  1662           62    641\n",
       "1     2        Wíthin       -35  1639           34    375\n",
       "2     3     Darth Nub       397  1606           56    580\n",
       "3     4         Subha       713  1604           69    434\n",
       "4     6  tapiokaoisii       117  1527          106    323"
      ]
     },
     "execution_count": 12,
     "metadata": {},
     "output_type": "execute_result"
    }
   ],
   "source": [
    "players.drop('link', axis=1, inplace=True)\n",
    "players.head()"
   ]
  },
  {
   "cell_type": "markdown",
   "id": "bb43a54c",
   "metadata": {},
   "source": [
    "Join the two dataframes on name of user for overall data on each player. "
   ]
  },
  {
   "cell_type": "code",
   "execution_count": 13,
   "id": "3dbe4b01",
   "metadata": {},
   "outputs": [
    {
     "data": {
      "text/html": [
       "<div>\n",
       "<style scoped>\n",
       "    .dataframe tbody tr th:only-of-type {\n",
       "        vertical-align: middle;\n",
       "    }\n",
       "\n",
       "    .dataframe tbody tr th {\n",
       "        vertical-align: top;\n",
       "    }\n",
       "\n",
       "    .dataframe thead th {\n",
       "        text-align: right;\n",
       "    }\n",
       "</style>\n",
       "<table border=\"1\" class=\"dataframe\">\n",
       "  <thead>\n",
       "    <tr style=\"text-align: right;\">\n",
       "      <th></th>\n",
       "      <th>rank</th>\n",
       "      <th>name</th>\n",
       "      <th>patch-lp</th>\n",
       "      <th>lp</th>\n",
       "      <th>patch-games</th>\n",
       "      <th>games</th>\n",
       "      <th>Compositions</th>\n",
       "      <th>Econ</th>\n",
       "      <th>Flexibility</th>\n",
       "      <th>Execution</th>\n",
       "      <th>Items</th>\n",
       "    </tr>\n",
       "  </thead>\n",
       "  <tbody>\n",
       "    <tr>\n",
       "      <th>0</th>\n",
       "      <td>1</td>\n",
       "      <td>sètsuko</td>\n",
       "      <td>-29</td>\n",
       "      <td>1662</td>\n",
       "      <td>62</td>\n",
       "      <td>641</td>\n",
       "      <td>S+</td>\n",
       "      <td>S+</td>\n",
       "      <td>B</td>\n",
       "      <td>A</td>\n",
       "      <td>B</td>\n",
       "    </tr>\n",
       "    <tr>\n",
       "      <th>1</th>\n",
       "      <td>2</td>\n",
       "      <td>Wíthin</td>\n",
       "      <td>-35</td>\n",
       "      <td>1639</td>\n",
       "      <td>34</td>\n",
       "      <td>375</td>\n",
       "      <td>S+</td>\n",
       "      <td>S</td>\n",
       "      <td>C</td>\n",
       "      <td>S</td>\n",
       "      <td>S</td>\n",
       "    </tr>\n",
       "    <tr>\n",
       "      <th>2</th>\n",
       "      <td>3</td>\n",
       "      <td>Darth Nub</td>\n",
       "      <td>397</td>\n",
       "      <td>1606</td>\n",
       "      <td>56</td>\n",
       "      <td>580</td>\n",
       "      <td>S+</td>\n",
       "      <td>S+</td>\n",
       "      <td>A</td>\n",
       "      <td>S+</td>\n",
       "      <td>A</td>\n",
       "    </tr>\n",
       "    <tr>\n",
       "      <th>3</th>\n",
       "      <td>4</td>\n",
       "      <td>Subha</td>\n",
       "      <td>713</td>\n",
       "      <td>1604</td>\n",
       "      <td>69</td>\n",
       "      <td>434</td>\n",
       "      <td>S+</td>\n",
       "      <td>S+</td>\n",
       "      <td>A</td>\n",
       "      <td>S+</td>\n",
       "      <td>S</td>\n",
       "    </tr>\n",
       "    <tr>\n",
       "      <th>4</th>\n",
       "      <td>6</td>\n",
       "      <td>tapiokaoisii</td>\n",
       "      <td>117</td>\n",
       "      <td>1527</td>\n",
       "      <td>106</td>\n",
       "      <td>323</td>\n",
       "      <td>S+</td>\n",
       "      <td>S+</td>\n",
       "      <td>C</td>\n",
       "      <td>A</td>\n",
       "      <td>A</td>\n",
       "    </tr>\n",
       "  </tbody>\n",
       "</table>\n",
       "</div>"
      ],
      "text/plain": [
       "   rank          name  patch-lp    lp  patch-games  games Compositions Econ  \\\n",
       "0     1       sètsuko       -29  1662           62    641           S+   S+   \n",
       "1     2        Wíthin       -35  1639           34    375           S+    S   \n",
       "2     3     Darth Nub       397  1606           56    580           S+   S+   \n",
       "3     4         Subha       713  1604           69    434           S+   S+   \n",
       "4     6  tapiokaoisii       117  1527          106    323           S+   S+   \n",
       "\n",
       "  Flexibility Execution Items  \n",
       "0           B         A     B  \n",
       "1           C         S     S  \n",
       "2           A        S+     A  \n",
       "3           A        S+     S  \n",
       "4           C         A     A  "
      ]
     },
     "execution_count": 13,
     "metadata": {},
     "output_type": "execute_result"
    }
   ],
   "source": [
    "full_player_data = pd.merge(players, profiles, on='name')\n",
    "full_player_data.head()"
   ]
  },
  {
   "cell_type": "markdown",
   "id": "1839f924",
   "metadata": {},
   "source": [
    "A number mapping to each of the gradings (S+, S, A, etc.) need to be given for sorting later on, so it is made and assigned here. "
   ]
  },
  {
   "cell_type": "code",
   "execution_count": 14,
   "id": "921a5b6a",
   "metadata": {
    "hide_input": true
   },
   "outputs": [
    {
     "data": {
      "text/html": [
       "<div>\n",
       "<style scoped>\n",
       "    .dataframe tbody tr th:only-of-type {\n",
       "        vertical-align: middle;\n",
       "    }\n",
       "\n",
       "    .dataframe tbody tr th {\n",
       "        vertical-align: top;\n",
       "    }\n",
       "\n",
       "    .dataframe thead th {\n",
       "        text-align: right;\n",
       "    }\n",
       "</style>\n",
       "<table border=\"1\" class=\"dataframe\">\n",
       "  <thead>\n",
       "    <tr style=\"text-align: right;\">\n",
       "      <th></th>\n",
       "      <th>index</th>\n",
       "    </tr>\n",
       "    <tr>\n",
       "      <th>grade</th>\n",
       "      <th></th>\n",
       "    </tr>\n",
       "  </thead>\n",
       "  <tbody>\n",
       "    <tr>\n",
       "      <th>F</th>\n",
       "      <td>0</td>\n",
       "    </tr>\n",
       "    <tr>\n",
       "      <th>D</th>\n",
       "      <td>1</td>\n",
       "    </tr>\n",
       "    <tr>\n",
       "      <th>C</th>\n",
       "      <td>2</td>\n",
       "    </tr>\n",
       "    <tr>\n",
       "      <th>B</th>\n",
       "      <td>3</td>\n",
       "    </tr>\n",
       "    <tr>\n",
       "      <th>A</th>\n",
       "      <td>4</td>\n",
       "    </tr>\n",
       "    <tr>\n",
       "      <th>S</th>\n",
       "      <td>5</td>\n",
       "    </tr>\n",
       "    <tr>\n",
       "      <th>S+</th>\n",
       "      <td>6</td>\n",
       "    </tr>\n",
       "  </tbody>\n",
       "</table>\n",
       "</div>"
      ],
      "text/plain": [
       "       index\n",
       "grade       \n",
       "F          0\n",
       "D          1\n",
       "C          2\n",
       "B          3\n",
       "A          4\n",
       "S          5\n",
       "S+         6"
      ]
     },
     "execution_count": 14,
     "metadata": {},
     "output_type": "execute_result"
    }
   ],
   "source": [
    "df_mapping = pd.DataFrame({'grade': ['F', 'D', 'C', 'B', 'A', 'S', 'S+']})\n",
    "sort_mapping = df_mapping.reset_index().set_index('grade')\n",
    "del(df_mapping)\n",
    "sort_mapping"
   ]
  },
  {
   "cell_type": "code",
   "execution_count": 15,
   "id": "396033ee",
   "metadata": {
    "hide_input": true
   },
   "outputs": [
    {
     "data": {
      "text/html": [
       "<div>\n",
       "<style scoped>\n",
       "    .dataframe tbody tr th:only-of-type {\n",
       "        vertical-align: middle;\n",
       "    }\n",
       "\n",
       "    .dataframe tbody tr th {\n",
       "        vertical-align: top;\n",
       "    }\n",
       "\n",
       "    .dataframe thead th {\n",
       "        text-align: right;\n",
       "    }\n",
       "</style>\n",
       "<table border=\"1\" class=\"dataframe\">\n",
       "  <thead>\n",
       "    <tr style=\"text-align: right;\">\n",
       "      <th></th>\n",
       "      <th>rank</th>\n",
       "      <th>name</th>\n",
       "      <th>patch-lp</th>\n",
       "      <th>lp</th>\n",
       "      <th>patch-games</th>\n",
       "      <th>games</th>\n",
       "      <th>Compositions</th>\n",
       "      <th>Econ</th>\n",
       "      <th>Flexibility</th>\n",
       "      <th>Execution</th>\n",
       "      <th>Items</th>\n",
       "      <th>Econ_num</th>\n",
       "      <th>Execution_num</th>\n",
       "      <th>Items_num</th>\n",
       "      <th>Flexibility_num</th>\n",
       "      <th>Compositions_num</th>\n",
       "    </tr>\n",
       "  </thead>\n",
       "  <tbody>\n",
       "    <tr>\n",
       "      <th>0</th>\n",
       "      <td>1</td>\n",
       "      <td>sètsuko</td>\n",
       "      <td>-29</td>\n",
       "      <td>1662</td>\n",
       "      <td>62</td>\n",
       "      <td>641</td>\n",
       "      <td>S+</td>\n",
       "      <td>S+</td>\n",
       "      <td>B</td>\n",
       "      <td>A</td>\n",
       "      <td>B</td>\n",
       "      <td>6</td>\n",
       "      <td>4</td>\n",
       "      <td>3</td>\n",
       "      <td>3</td>\n",
       "      <td>6</td>\n",
       "    </tr>\n",
       "    <tr>\n",
       "      <th>1</th>\n",
       "      <td>2</td>\n",
       "      <td>Wíthin</td>\n",
       "      <td>-35</td>\n",
       "      <td>1639</td>\n",
       "      <td>34</td>\n",
       "      <td>375</td>\n",
       "      <td>S+</td>\n",
       "      <td>S</td>\n",
       "      <td>C</td>\n",
       "      <td>S</td>\n",
       "      <td>S</td>\n",
       "      <td>5</td>\n",
       "      <td>5</td>\n",
       "      <td>5</td>\n",
       "      <td>2</td>\n",
       "      <td>6</td>\n",
       "    </tr>\n",
       "    <tr>\n",
       "      <th>2</th>\n",
       "      <td>3</td>\n",
       "      <td>Darth Nub</td>\n",
       "      <td>397</td>\n",
       "      <td>1606</td>\n",
       "      <td>56</td>\n",
       "      <td>580</td>\n",
       "      <td>S+</td>\n",
       "      <td>S+</td>\n",
       "      <td>A</td>\n",
       "      <td>S+</td>\n",
       "      <td>A</td>\n",
       "      <td>6</td>\n",
       "      <td>6</td>\n",
       "      <td>4</td>\n",
       "      <td>4</td>\n",
       "      <td>6</td>\n",
       "    </tr>\n",
       "    <tr>\n",
       "      <th>3</th>\n",
       "      <td>4</td>\n",
       "      <td>Subha</td>\n",
       "      <td>713</td>\n",
       "      <td>1604</td>\n",
       "      <td>69</td>\n",
       "      <td>434</td>\n",
       "      <td>S+</td>\n",
       "      <td>S+</td>\n",
       "      <td>A</td>\n",
       "      <td>S+</td>\n",
       "      <td>S</td>\n",
       "      <td>6</td>\n",
       "      <td>6</td>\n",
       "      <td>5</td>\n",
       "      <td>4</td>\n",
       "      <td>6</td>\n",
       "    </tr>\n",
       "    <tr>\n",
       "      <th>4</th>\n",
       "      <td>6</td>\n",
       "      <td>tapiokaoisii</td>\n",
       "      <td>117</td>\n",
       "      <td>1527</td>\n",
       "      <td>106</td>\n",
       "      <td>323</td>\n",
       "      <td>S+</td>\n",
       "      <td>S+</td>\n",
       "      <td>C</td>\n",
       "      <td>A</td>\n",
       "      <td>A</td>\n",
       "      <td>6</td>\n",
       "      <td>4</td>\n",
       "      <td>4</td>\n",
       "      <td>2</td>\n",
       "      <td>6</td>\n",
       "    </tr>\n",
       "  </tbody>\n",
       "</table>\n",
       "</div>"
      ],
      "text/plain": [
       "   rank          name  patch-lp    lp  patch-games  games Compositions Econ  \\\n",
       "0     1       sètsuko       -29  1662           62    641           S+   S+   \n",
       "1     2        Wíthin       -35  1639           34    375           S+    S   \n",
       "2     3     Darth Nub       397  1606           56    580           S+   S+   \n",
       "3     4         Subha       713  1604           69    434           S+   S+   \n",
       "4     6  tapiokaoisii       117  1527          106    323           S+   S+   \n",
       "\n",
       "  Flexibility Execution Items  Econ_num  Execution_num  Items_num  \\\n",
       "0           B         A     B         6              4          3   \n",
       "1           C         S     S         5              5          5   \n",
       "2           A        S+     A         6              6          4   \n",
       "3           A        S+     S         6              6          5   \n",
       "4           C         A     A         6              4          4   \n",
       "\n",
       "   Flexibility_num  Compositions_num  \n",
       "0                3                 6  \n",
       "1                2                 6  \n",
       "2                4                 6  \n",
       "3                4                 6  \n",
       "4                2                 6  "
      ]
     },
     "execution_count": 15,
     "metadata": {},
     "output_type": "execute_result"
    }
   ],
   "source": [
    "categories = ['Econ', 'Execution', 'Items', 'Flexibility', 'Compositions']\n",
    "leaderboard_data = ['patch-lp', 'patch-games']\n",
    "for category in categories:\n",
    "    full_player_data[category + '_num'] = full_player_data[category].map(sort_mapping['index'])\n",
    "del(sort_mapping)\n",
    "full_player_data.head()"
   ]
  },
  {
   "cell_type": "markdown",
   "id": "1984eaed",
   "metadata": {},
   "source": [
    "The last dataframe to add to dataframe are the preferred units of each player at the top of the leaderboard. The dataframe titled 'preferences' contains a list of the seven most used units (in order) by the top ranked players on the North America Server at the end of games. This gives an idea of what units the best players look to use when building their final team composition. "
   ]
  },
  {
   "cell_type": "code",
   "execution_count": 16,
   "id": "be52e860",
   "metadata": {
    "hide_input": true
   },
   "outputs": [
    {
     "data": {
      "text/html": [
       "<div>\n",
       "<style scoped>\n",
       "    .dataframe tbody tr th:only-of-type {\n",
       "        vertical-align: middle;\n",
       "    }\n",
       "\n",
       "    .dataframe tbody tr th {\n",
       "        vertical-align: top;\n",
       "    }\n",
       "\n",
       "    .dataframe thead th {\n",
       "        text-align: right;\n",
       "    }\n",
       "</style>\n",
       "<table border=\"1\" class=\"dataframe\">\n",
       "  <thead>\n",
       "    <tr style=\"text-align: right;\">\n",
       "      <th></th>\n",
       "      <th>name</th>\n",
       "      <th>unit0</th>\n",
       "      <th>unit1</th>\n",
       "      <th>unit2</th>\n",
       "      <th>unit3</th>\n",
       "      <th>unit4</th>\n",
       "      <th>unit5</th>\n",
       "      <th>unit6</th>\n",
       "    </tr>\n",
       "  </thead>\n",
       "  <tbody>\n",
       "    <tr>\n",
       "      <th>0</th>\n",
       "      <td>sètsuko</td>\n",
       "      <td>Braum</td>\n",
       "      <td>Orianna</td>\n",
       "      <td>Jinx</td>\n",
       "      <td>Kaisa</td>\n",
       "      <td>Silco</td>\n",
       "      <td>Jhin</td>\n",
       "      <td>Senna</td>\n",
       "    </tr>\n",
       "    <tr>\n",
       "      <th>1</th>\n",
       "      <td>Amde</td>\n",
       "      <td>Braum</td>\n",
       "      <td>Ekko</td>\n",
       "      <td>Silco</td>\n",
       "      <td>Jhin</td>\n",
       "      <td>Orianna</td>\n",
       "      <td>Jinx</td>\n",
       "      <td>Blitzcrank</td>\n",
       "    </tr>\n",
       "    <tr>\n",
       "      <th>2</th>\n",
       "      <td>tapiokaoisii</td>\n",
       "      <td>Silco</td>\n",
       "      <td>Viktor</td>\n",
       "      <td>Kaisa</td>\n",
       "      <td>Zac</td>\n",
       "      <td>Renata</td>\n",
       "      <td>Tahmkench</td>\n",
       "      <td>Malzahar</td>\n",
       "    </tr>\n",
       "    <tr>\n",
       "      <th>3</th>\n",
       "      <td>Wíthin</td>\n",
       "      <td>Jinx</td>\n",
       "      <td>Ekko</td>\n",
       "      <td>Silco</td>\n",
       "      <td>Viktor</td>\n",
       "      <td>Jayce</td>\n",
       "      <td>Renata</td>\n",
       "      <td>Orianna</td>\n",
       "    </tr>\n",
       "    <tr>\n",
       "      <th>4</th>\n",
       "      <td>BestSatoJP</td>\n",
       "      <td>Silco</td>\n",
       "      <td>Renata</td>\n",
       "      <td>Zac</td>\n",
       "      <td>Viktor</td>\n",
       "      <td>Seraphine</td>\n",
       "      <td>Ekko</td>\n",
       "      <td>Jinx</td>\n",
       "    </tr>\n",
       "  </tbody>\n",
       "</table>\n",
       "</div>"
      ],
      "text/plain": [
       "           name  unit0    unit1  unit2   unit3      unit4      unit5  \\\n",
       "0       sètsuko  Braum  Orianna   Jinx   Kaisa      Silco       Jhin   \n",
       "1          Amde  Braum     Ekko  Silco    Jhin    Orianna       Jinx   \n",
       "2  tapiokaoisii  Silco   Viktor  Kaisa     Zac     Renata  Tahmkench   \n",
       "3        Wíthin   Jinx     Ekko  Silco  Viktor      Jayce     Renata   \n",
       "4    BestSatoJP  Silco   Renata    Zac  Viktor  Seraphine       Ekko   \n",
       "\n",
       "        unit6  \n",
       "0       Senna  \n",
       "1  Blitzcrank  \n",
       "2    Malzahar  \n",
       "3     Orianna  \n",
       "4        Jinx  "
      ]
     },
     "execution_count": 16,
     "metadata": {},
     "output_type": "execute_result"
    }
   ],
   "source": [
    "preferences.head()"
   ]
  },
  {
   "cell_type": "code",
   "execution_count": 17,
   "id": "03e42e94",
   "metadata": {},
   "outputs": [
    {
     "data": {
      "text/html": [
       "<div>\n",
       "<style scoped>\n",
       "    .dataframe tbody tr th:only-of-type {\n",
       "        vertical-align: middle;\n",
       "    }\n",
       "\n",
       "    .dataframe tbody tr th {\n",
       "        vertical-align: top;\n",
       "    }\n",
       "\n",
       "    .dataframe thead th {\n",
       "        text-align: right;\n",
       "    }\n",
       "</style>\n",
       "<table border=\"1\" class=\"dataframe\">\n",
       "  <thead>\n",
       "    <tr style=\"text-align: right;\">\n",
       "      <th></th>\n",
       "      <th>rank</th>\n",
       "      <th>name</th>\n",
       "      <th>patch-lp</th>\n",
       "      <th>lp</th>\n",
       "      <th>patch-games</th>\n",
       "      <th>games</th>\n",
       "      <th>Compositions</th>\n",
       "      <th>Econ</th>\n",
       "      <th>Flexibility</th>\n",
       "      <th>Execution</th>\n",
       "      <th>...</th>\n",
       "      <th>Items_num</th>\n",
       "      <th>Flexibility_num</th>\n",
       "      <th>Compositions_num</th>\n",
       "      <th>unit0</th>\n",
       "      <th>unit1</th>\n",
       "      <th>unit2</th>\n",
       "      <th>unit3</th>\n",
       "      <th>unit4</th>\n",
       "      <th>unit5</th>\n",
       "      <th>unit6</th>\n",
       "    </tr>\n",
       "  </thead>\n",
       "  <tbody>\n",
       "    <tr>\n",
       "      <th>0</th>\n",
       "      <td>1</td>\n",
       "      <td>sètsuko</td>\n",
       "      <td>-29</td>\n",
       "      <td>1662</td>\n",
       "      <td>62</td>\n",
       "      <td>641</td>\n",
       "      <td>S+</td>\n",
       "      <td>S+</td>\n",
       "      <td>B</td>\n",
       "      <td>A</td>\n",
       "      <td>...</td>\n",
       "      <td>3</td>\n",
       "      <td>3</td>\n",
       "      <td>6</td>\n",
       "      <td>Braum</td>\n",
       "      <td>Orianna</td>\n",
       "      <td>Jinx</td>\n",
       "      <td>Kaisa</td>\n",
       "      <td>Silco</td>\n",
       "      <td>Jhin</td>\n",
       "      <td>Senna</td>\n",
       "    </tr>\n",
       "    <tr>\n",
       "      <th>1</th>\n",
       "      <td>2</td>\n",
       "      <td>Wíthin</td>\n",
       "      <td>-35</td>\n",
       "      <td>1639</td>\n",
       "      <td>34</td>\n",
       "      <td>375</td>\n",
       "      <td>S+</td>\n",
       "      <td>S</td>\n",
       "      <td>C</td>\n",
       "      <td>S</td>\n",
       "      <td>...</td>\n",
       "      <td>5</td>\n",
       "      <td>2</td>\n",
       "      <td>6</td>\n",
       "      <td>Jinx</td>\n",
       "      <td>Ekko</td>\n",
       "      <td>Silco</td>\n",
       "      <td>Viktor</td>\n",
       "      <td>Jayce</td>\n",
       "      <td>Renata</td>\n",
       "      <td>Orianna</td>\n",
       "    </tr>\n",
       "    <tr>\n",
       "      <th>2</th>\n",
       "      <td>3</td>\n",
       "      <td>Darth Nub</td>\n",
       "      <td>397</td>\n",
       "      <td>1606</td>\n",
       "      <td>56</td>\n",
       "      <td>580</td>\n",
       "      <td>S+</td>\n",
       "      <td>S+</td>\n",
       "      <td>A</td>\n",
       "      <td>S+</td>\n",
       "      <td>...</td>\n",
       "      <td>4</td>\n",
       "      <td>4</td>\n",
       "      <td>6</td>\n",
       "      <td>Silco</td>\n",
       "      <td>Jinx</td>\n",
       "      <td>Ekko</td>\n",
       "      <td>Viktor</td>\n",
       "      <td>Braum</td>\n",
       "      <td>Blitzcrank</td>\n",
       "      <td>Kaisa</td>\n",
       "    </tr>\n",
       "    <tr>\n",
       "      <th>3</th>\n",
       "      <td>4</td>\n",
       "      <td>Subha</td>\n",
       "      <td>713</td>\n",
       "      <td>1604</td>\n",
       "      <td>69</td>\n",
       "      <td>434</td>\n",
       "      <td>S+</td>\n",
       "      <td>S+</td>\n",
       "      <td>A</td>\n",
       "      <td>S+</td>\n",
       "      <td>...</td>\n",
       "      <td>5</td>\n",
       "      <td>4</td>\n",
       "      <td>6</td>\n",
       "      <td>Silco</td>\n",
       "      <td>Jinx</td>\n",
       "      <td>Braum</td>\n",
       "      <td>Blitzcrank</td>\n",
       "      <td>Irelia</td>\n",
       "      <td>Viktor</td>\n",
       "      <td>Ekko</td>\n",
       "    </tr>\n",
       "    <tr>\n",
       "      <th>4</th>\n",
       "      <td>6</td>\n",
       "      <td>tapiokaoisii</td>\n",
       "      <td>117</td>\n",
       "      <td>1527</td>\n",
       "      <td>106</td>\n",
       "      <td>323</td>\n",
       "      <td>S+</td>\n",
       "      <td>S+</td>\n",
       "      <td>C</td>\n",
       "      <td>A</td>\n",
       "      <td>...</td>\n",
       "      <td>4</td>\n",
       "      <td>2</td>\n",
       "      <td>6</td>\n",
       "      <td>Silco</td>\n",
       "      <td>Viktor</td>\n",
       "      <td>Kaisa</td>\n",
       "      <td>Zac</td>\n",
       "      <td>Renata</td>\n",
       "      <td>Tahmkench</td>\n",
       "      <td>Malzahar</td>\n",
       "    </tr>\n",
       "  </tbody>\n",
       "</table>\n",
       "<p>5 rows × 23 columns</p>\n",
       "</div>"
      ],
      "text/plain": [
       "   rank          name  patch-lp    lp  patch-games  games Compositions Econ  \\\n",
       "0     1       sètsuko       -29  1662           62    641           S+   S+   \n",
       "1     2        Wíthin       -35  1639           34    375           S+    S   \n",
       "2     3     Darth Nub       397  1606           56    580           S+   S+   \n",
       "3     4         Subha       713  1604           69    434           S+   S+   \n",
       "4     6  tapiokaoisii       117  1527          106    323           S+   S+   \n",
       "\n",
       "  Flexibility Execution  ... Items_num  Flexibility_num  Compositions_num  \\\n",
       "0           B         A  ...         3                3                 6   \n",
       "1           C         S  ...         5                2                 6   \n",
       "2           A        S+  ...         4                4                 6   \n",
       "3           A        S+  ...         5                4                 6   \n",
       "4           C         A  ...         4                2                 6   \n",
       "\n",
       "   unit0    unit1  unit2       unit3   unit4       unit5     unit6  \n",
       "0  Braum  Orianna   Jinx       Kaisa   Silco        Jhin     Senna  \n",
       "1   Jinx     Ekko  Silco      Viktor   Jayce      Renata   Orianna  \n",
       "2  Silco     Jinx   Ekko      Viktor   Braum  Blitzcrank     Kaisa  \n",
       "3  Silco     Jinx  Braum  Blitzcrank  Irelia      Viktor      Ekko  \n",
       "4  Silco   Viktor  Kaisa         Zac  Renata   Tahmkench  Malzahar  \n",
       "\n",
       "[5 rows x 23 columns]"
      ]
     },
     "execution_count": 17,
     "metadata": {},
     "output_type": "execute_result"
    }
   ],
   "source": [
    "full_player_data = pd.merge(full_player_data,preferences, on= \"name\")\n",
    "full_player_data.head()"
   ]
  },
  {
   "cell_type": "markdown",
   "id": "276ffdbf",
   "metadata": {},
   "source": [
    "# Chapter 2:Data Analysis"
   ]
  },
  {
   "cell_type": "markdown",
   "id": "b7e414a0",
   "metadata": {},
   "source": [
    "### Selecting Style of Visualizations"
   ]
  },
  {
   "cell_type": "code",
   "execution_count": 18,
   "id": "e06c186f",
   "metadata": {},
   "outputs": [],
   "source": [
    "plt.style.use('fivethirtyeight')"
   ]
  },
  {
   "cell_type": "markdown",
   "id": "ec113fb2",
   "metadata": {},
   "source": [
    "## Analysis of Unit Data\n",
    "### Glance at Unit Data"
   ]
  },
  {
   "cell_type": "code",
   "execution_count": 19,
   "id": "335ca0b2",
   "metadata": {
    "hide_input": true
   },
   "outputs": [
    {
     "data": {
      "text/html": [
       "<div>\n",
       "<style scoped>\n",
       "    .dataframe tbody tr th:only-of-type {\n",
       "        vertical-align: middle;\n",
       "    }\n",
       "\n",
       "    .dataframe tbody tr th {\n",
       "        vertical-align: top;\n",
       "    }\n",
       "\n",
       "    .dataframe thead th {\n",
       "        text-align: right;\n",
       "    }\n",
       "</style>\n",
       "<table border=\"1\" class=\"dataframe\">\n",
       "  <thead>\n",
       "    <tr style=\"text-align: right;\">\n",
       "      <th></th>\n",
       "      <th>unit</th>\n",
       "      <th>12.7 Playrate</th>\n",
       "      <th>12.7 Placement</th>\n",
       "      <th>12.8 Playrate</th>\n",
       "      <th>12.8 Placement</th>\n",
       "      <th>Cost</th>\n",
       "      <th>playrate_change</th>\n",
       "      <th>placement_change</th>\n",
       "    </tr>\n",
       "  </thead>\n",
       "  <tbody>\n",
       "    <tr>\n",
       "      <th>0</th>\n",
       "      <td>Brand</td>\n",
       "      <td>7.25</td>\n",
       "      <td>4.63</td>\n",
       "      <td>6.125</td>\n",
       "      <td>4.61</td>\n",
       "      <td>1</td>\n",
       "      <td>-1.125</td>\n",
       "      <td>-0.02</td>\n",
       "    </tr>\n",
       "    <tr>\n",
       "      <th>1</th>\n",
       "      <td>Caitlyn</td>\n",
       "      <td>6.50</td>\n",
       "      <td>4.61</td>\n",
       "      <td>6.125</td>\n",
       "      <td>4.64</td>\n",
       "      <td>1</td>\n",
       "      <td>-0.375</td>\n",
       "      <td>0.03</td>\n",
       "    </tr>\n",
       "    <tr>\n",
       "      <th>2</th>\n",
       "      <td>Camille</td>\n",
       "      <td>10.00</td>\n",
       "      <td>4.56</td>\n",
       "      <td>10.500</td>\n",
       "      <td>4.50</td>\n",
       "      <td>1</td>\n",
       "      <td>0.500</td>\n",
       "      <td>-0.06</td>\n",
       "    </tr>\n",
       "    <tr>\n",
       "      <th>3</th>\n",
       "      <td>Darius</td>\n",
       "      <td>6.25</td>\n",
       "      <td>4.60</td>\n",
       "      <td>9.000</td>\n",
       "      <td>4.34</td>\n",
       "      <td>1</td>\n",
       "      <td>2.750</td>\n",
       "      <td>-0.26</td>\n",
       "    </tr>\n",
       "    <tr>\n",
       "      <th>4</th>\n",
       "      <td>Ezreal</td>\n",
       "      <td>11.50</td>\n",
       "      <td>4.29</td>\n",
       "      <td>10.750</td>\n",
       "      <td>4.51</td>\n",
       "      <td>1</td>\n",
       "      <td>-0.750</td>\n",
       "      <td>0.22</td>\n",
       "    </tr>\n",
       "  </tbody>\n",
       "</table>\n",
       "</div>"
      ],
      "text/plain": [
       "      unit  12.7 Playrate  12.7 Placement  12.8 Playrate  12.8 Placement  \\\n",
       "0    Brand           7.25            4.63          6.125            4.61   \n",
       "1  Caitlyn           6.50            4.61          6.125            4.64   \n",
       "2  Camille          10.00            4.56         10.500            4.50   \n",
       "3   Darius           6.25            4.60          9.000            4.34   \n",
       "4   Ezreal          11.50            4.29         10.750            4.51   \n",
       "\n",
       "   Cost  playrate_change  placement_change  \n",
       "0     1           -1.125             -0.02  \n",
       "1     1           -0.375              0.03  \n",
       "2     1            0.500             -0.06  \n",
       "3     1            2.750             -0.26  \n",
       "4     1           -0.750              0.22  "
      ]
     },
     "execution_count": 19,
     "metadata": {},
     "output_type": "execute_result"
    }
   ],
   "source": [
    "joined_units.head()"
   ]
  },
  {
   "cell_type": "markdown",
   "id": "1d0cde00",
   "metadata": {},
   "source": [
    "### Find the Biggest 'Winners' and 'Losers' of the Patch\n",
    "This can be done by finding the top 10 biggest increases and decreases in both popularity, and success (average placement)."
   ]
  },
  {
   "cell_type": "code",
   "execution_count": 20,
   "id": "c10acfdd",
   "metadata": {},
   "outputs": [
    {
     "data": {
      "image/png": "[encoded data removed]",
      "text/plain": [
       "<Figure size 432x288 with 1 Axes>"
      ]
     },
     "metadata": {
      "needs_background": "light"
     },
     "output_type": "display_data"
    }
   ],
   "source": [
    "top_10 = joined_units.nlargest(n=10, columns=['playrate_change'])[['playrate_change', 'unit']]\n",
    "make_bar_plot(top_10)\n",
    "plt.title('Top 10 Increases in Playrate')\n",
    "plt.xlabel('Playrate (%) Increase')\n",
    "plt.ylabel('Unit',rotation=0)\n",
    "plt.show()\n",
    "# same was done for next plot"
   ]
  },
  {
   "cell_type": "code",
   "execution_count": 21,
   "id": "314081cb",
   "metadata": {
    "hide_input": true
   },
   "outputs": [
    {
     "data": {
      "image/png": "[encoded data removed]",
      "text/plain": [
       "<Figure size 432x288 with 1 Axes>"
      ]
     },
     "metadata": {
      "needs_background": "light"
     },
     "output_type": "display_data"
    }
   ],
   "source": [
    "top_10 = joined_units.nsmallest(n=10, columns=['playrate_change'])[['playrate_change', 'unit']]\n",
    "top_10['playrate_change'] = top_10['playrate_change'].abs()\n",
    "make_bar_plot(top_10)\n",
    "plt.title('Top 10 Decreases in Playrate')\n",
    "plt.xlabel('Playrate (%) Decrease')\n",
    "plt.ylabel('Unit',rotation=0)\n",
    "plt.show()"
   ]
  },
  {
   "cell_type": "code",
   "execution_count": 22,
   "id": "0e7b640f",
   "metadata": {
    "hide_input": true
   },
   "outputs": [
    {
     "data": {
      "image/png": "[encoded data removed]",
      "text/plain": [
       "<Figure size 432x288 with 1 Axes>"
      ]
     },
     "metadata": {
      "needs_background": "light"
     },
     "output_type": "display_data"
    }
   ],
   "source": [
    "top_10 = joined_units.nsmallest(n=10, columns=['placement_change'])[['placement_change', 'unit']]\n",
    "top_10['placement_change'] = top_10['placement_change'].abs()\n",
    "make_bar_plot(top_10)\n",
    "plt.title('Top 10 Winners of Patch 12.8')\n",
    "plt.xlabel('Decrease in Average Placement')\n",
    "plt.ylabel('Unit',rotation=0)\n",
    "plt.show()"
   ]
  },
  {
   "cell_type": "code",
   "execution_count": 23,
   "id": "ea42d177",
   "metadata": {
    "hide_input": true
   },
   "outputs": [
    {
     "data": {
      "image/png": "[encoded data removed]",
      "text/plain": [
       "<Figure size 432x288 with 1 Axes>"
      ]
     },
     "metadata": {
      "needs_background": "light"
     },
     "output_type": "display_data"
    }
   ],
   "source": [
    "top_10 = joined_units.nlargest(n=10, columns=['placement_change'])[['placement_change', 'unit']]\n",
    "make_bar_plot(top_10)\n",
    "plt.title('Top 10 Losers of Patch 12.8')\n",
    "plt.xlabel('Incresase in Average Placement')\n",
    "plt.ylabel('Unit',rotation=0)\n",
    "plt.show()"
   ]
  },
  {
   "cell_type": "markdown",
   "id": "b4c6b63a",
   "metadata": {},
   "source": [
    "*Note that an increase in average placement means you're placing worse on average, while a decrease in average placement means you're placing better on average.  \n",
    "### Top Units on Endgame Boards"
   ]
  },
  {
   "cell_type": "code",
   "execution_count": 24,
   "id": "ad2f80e7",
   "metadata": {
    "hide_input": true
   },
   "outputs": [
    {
     "data": {
      "text/html": [
       "<div>\n",
       "<style scoped>\n",
       "    .dataframe tbody tr th:only-of-type {\n",
       "        vertical-align: middle;\n",
       "    }\n",
       "\n",
       "    .dataframe tbody tr th {\n",
       "        vertical-align: top;\n",
       "    }\n",
       "\n",
       "    .dataframe thead th {\n",
       "        text-align: right;\n",
       "    }\n",
       "</style>\n",
       "<table border=\"1\" class=\"dataframe\">\n",
       "  <thead>\n",
       "    <tr style=\"text-align: right;\">\n",
       "      <th></th>\n",
       "      <th>unit</th>\n",
       "      <th>12.8 Playrate</th>\n",
       "    </tr>\n",
       "  </thead>\n",
       "  <tbody>\n",
       "    <tr>\n",
       "      <th>41</th>\n",
       "      <td>Braum</td>\n",
       "      <td>29.125</td>\n",
       "    </tr>\n",
       "    <tr>\n",
       "      <th>27</th>\n",
       "      <td>Ekko</td>\n",
       "      <td>25.125</td>\n",
       "    </tr>\n",
       "    <tr>\n",
       "      <th>46</th>\n",
       "      <td>Orianna</td>\n",
       "      <td>24.000</td>\n",
       "    </tr>\n",
       "    <tr>\n",
       "      <th>53</th>\n",
       "      <td>Jinx</td>\n",
       "      <td>23.000</td>\n",
       "    </tr>\n",
       "    <tr>\n",
       "      <th>29</th>\n",
       "      <td>Gnar</td>\n",
       "      <td>22.500</td>\n",
       "    </tr>\n",
       "  </tbody>\n",
       "</table>\n",
       "</div>"
      ],
      "text/plain": [
       "       unit  12.8 Playrate\n",
       "41    Braum         29.125\n",
       "27     Ekko         25.125\n",
       "46  Orianna         24.000\n",
       "53     Jinx         23.000\n",
       "29     Gnar         22.500"
      ]
     },
     "execution_count": 24,
     "metadata": {},
     "output_type": "execute_result"
    }
   ],
   "source": [
    "joined_units.sort_values(by=['12.8 Playrate'],ascending=False)[['unit', '12.8 Playrate']].head()"
   ]
  },
  {
   "cell_type": "markdown",
   "id": "aa9e3ecf",
   "metadata": {},
   "source": [
    "Despite units like Ekko, Jinx, and Blitzcrank dropping in playrate, they're still amongst the most played units in the game. How do other units fare in terms of popularity and success?"
   ]
  },
  {
   "cell_type": "code",
   "execution_count": 25,
   "id": "62d8847b",
   "metadata": {},
   "outputs": [
    {
     "data": {
      "image/png": "[encoded data removed]",
      "text/plain": [
       "<Figure size 432x288 with 1 Axes>"
      ]
     },
     "metadata": {
      "needs_background": "light"
     },
     "output_type": "display_data"
    }
   ],
   "source": [
    "placement = joined_units['12.8 Placement']\n",
    "playrate = joined_units['12.8 Playrate']\n",
    "plt.scatter(placement,playrate)\n",
    "plt.xlabel('Placement')\n",
    "plt.ylabel('Playrate', rotation=0, labelpad=40)\n",
    "plt.show()\n"
   ]
  },
  {
   "cell_type": "markdown",
   "id": "02209bdd",
   "metadata": {},
   "source": [
    "There appears to be a large outlier with an average placement slightly below 2.5. That outlier is Veigar, a unit that cannot be bought and only appears under very specific conditions, we will drop Veigar for this visualization."
   ]
  },
  {
   "cell_type": "code",
   "execution_count": 26,
   "id": "664f228e",
   "metadata": {
    "hide_input": true
   },
   "outputs": [
    {
     "data": {
      "text/html": [
       "<div>\n",
       "<style scoped>\n",
       "    .dataframe tbody tr th:only-of-type {\n",
       "        vertical-align: middle;\n",
       "    }\n",
       "\n",
       "    .dataframe tbody tr th {\n",
       "        vertical-align: top;\n",
       "    }\n",
       "\n",
       "    .dataframe thead th {\n",
       "        text-align: right;\n",
       "    }\n",
       "</style>\n",
       "<table border=\"1\" class=\"dataframe\">\n",
       "  <thead>\n",
       "    <tr style=\"text-align: right;\">\n",
       "      <th></th>\n",
       "      <th>unit</th>\n",
       "      <th>12.7 Playrate</th>\n",
       "      <th>12.7 Placement</th>\n",
       "      <th>12.8 Playrate</th>\n",
       "      <th>12.8 Placement</th>\n",
       "      <th>Cost</th>\n",
       "      <th>playrate_change</th>\n",
       "      <th>placement_change</th>\n",
       "    </tr>\n",
       "  </thead>\n",
       "  <tbody>\n",
       "    <tr>\n",
       "      <th>57</th>\n",
       "      <td>Veigar</td>\n",
       "      <td>1.5</td>\n",
       "      <td>2.31</td>\n",
       "      <td>1.5</td>\n",
       "      <td>2.38</td>\n",
       "      <td>5</td>\n",
       "      <td>0.0</td>\n",
       "      <td>0.07</td>\n",
       "    </tr>\n",
       "  </tbody>\n",
       "</table>\n",
       "</div>"
      ],
      "text/plain": [
       "      unit  12.7 Playrate  12.7 Placement  12.8 Playrate  12.8 Placement  \\\n",
       "57  Veigar            1.5            2.31            1.5            2.38   \n",
       "\n",
       "    Cost  playrate_change  placement_change  \n",
       "57     5              0.0              0.07  "
      ]
     },
     "execution_count": 26,
     "metadata": {},
     "output_type": "execute_result"
    }
   ],
   "source": [
    "joined_units.sort_values(by=['12.8 Placement']).head(1)"
   ]
  },
  {
   "cell_type": "code",
   "execution_count": 27,
   "id": "9af748b9",
   "metadata": {
    "hide_input": true,
    "scrolled": true
   },
   "outputs": [
    {
     "data": {
      "text/plain": [
       "<matplotlib.legend.Legend at 0x1acf0375670>"
      ]
     },
     "execution_count": 27,
     "metadata": {},
     "output_type": "execute_result"
    },
    {
     "data": {
      "image/png": "[encoded data removed]",
      "text/plain": [
       "<Figure size 432x288 with 1 Axes>"
      ]
     },
     "metadata": {
      "needs_background": "light"
     },
     "output_type": "display_data"
    }
   ],
   "source": [
    "df = joined_units.drop(57)\n",
    "mean = df['12.8 Playrate'].mean()\n",
    "plt.scatter(df['12.8 Placement'], df['12.8 Playrate'])\n",
    "plt.axhline(y=mean, color = 'black', label = 'Average Playrate', linewidth = 1)\n",
    "plt.xlabel('Average Placement')\n",
    "plt.ylabel('Playrate', rotation=0, labelpad=30)\n",
    "plt.legend()"
   ]
  },
  {
   "cell_type": "markdown",
   "id": "a208a1ef",
   "metadata": {},
   "source": [
    "To get a better picture on the metagame and what people play, we'll focus only on the units above the average playrate threshold (13.38%), we get the resulting scatter plot, with the colors of the poitns representing the costs of the unit. The 5 costs units (ex. Silico, Jayce, Jinx) are towards the left of the plot, representing a better average placement. Braum, Ekko, and Orianna are the two most popular units, followed by Jinx and Gnar. Silico, Viktor, and Jayce are the best performing units in the patch."
   ]
  },
  {
   "cell_type": "code",
   "execution_count": 28,
   "id": "6d098196",
   "metadata": {
    "hide_input": true
   },
   "outputs": [
    {
     "data": {
      "image/png": "[encoded data removed]",
      "text/plain": [
       "<Figure size 432x288 with 2 Axes>"
      ]
     },
     "metadata": {
      "needs_background": "light"
     },
     "output_type": "display_data"
    }
   ],
   "source": [
    "df = df[df['12.8 Playrate'] > mean]\n",
    "placement = df['12.8 Placement'].to_numpy()\n",
    "playrate = df['12.8 Playrate'].to_numpy()\n",
    "cost = df['Cost'].to_numpy()\n",
    "unit = df['unit'].to_numpy()\n",
    "plt.scatter(placement, playrate, c=cost, cmap = 'Wistia')\n",
    "bar = plt.colorbar()\n",
    "bar.set_label('Unit Cost', rotation=0, labelpad=40)\n",
    "plt.xlabel('Average Placement')\n",
    "plt.ylabel('Playrate (%)', rotation=0, labelpad=60)\n",
    "annotation_list = []\n",
    "for i, text in enumerate(unit):\n",
    "    annotation = plt.annotate(text, (placement[i], playrate[i]))\n",
    "    annotation_list.append(annotation)\n",
    "adjust_text(annotation_list)\n",
    "plt.show()\n",
    "\n",
    "\n"
   ]
  },
  {
   "cell_type": "markdown",
   "id": "bc07de81",
   "metadata": {},
   "source": [
    "Although some units such as Ekko, Blitzcrank, and Rek'sai are played frequently on end-game boards, 4 and 5 cost champiosn dominate the endgame. You can see from the plots below that endgame boards not only more popular, but also perform better on average. "
   ]
  },
  {
   "cell_type": "code",
   "execution_count": 29,
   "id": "e046d229",
   "metadata": {},
   "outputs": [
    {
     "data": {
      "image/png": "[encoded data removed]",
      "text/plain": [
       "<Figure size 432x288 with 1 Axes>"
      ]
     },
     "metadata": {
      "needs_background": "light"
     },
     "output_type": "display_data"
    }
   ],
   "source": [
    "x = df.groupby('Cost').agg({'12.8 Placement': np.mean})\n",
    "indexes = x.index.tolist()\n",
    "values = x['12.8 Placement'].tolist()\n",
    "fig, ax = plt.subplots()\n",
    "bars = ax.bar(indexes, values)\n",
    "ax.bar_label(bars)\n",
    "plt.xticks([2,3,4,5])\n",
    "plt.xlabel('Unit Cost')\n",
    "plt.ylabel('Average Placement', rotation=0, labelpad=80)\n",
    "plt.title('Average Placement by Unit Cost')\n",
    "plt.show()"
   ]
  },
  {
   "cell_type": "code",
   "execution_count": 30,
   "id": "53537a41",
   "metadata": {
    "hide_input": true
   },
   "outputs": [
    {
     "data": {
      "image/png": "[encoded data removed]",
      "text/plain": [
       "<Figure size 432x288 with 1 Axes>"
      ]
     },
     "metadata": {
      "needs_background": "light"
     },
     "output_type": "display_data"
    }
   ],
   "source": [
    "x = df.groupby('Cost').agg({'12.8 Playrate': np.mean})\n",
    "indexes = x.index.tolist()\n",
    "values = x['12.8 Playrate'].tolist()\n",
    "fig, ax = plt.subplots()\n",
    "bars = ax.bar(indexes, values)\n",
    "ax.bar_label(bars)\n",
    "plt.xticks([2,3,4,5])\n",
    "plt.xlabel('Unit Cost')\n",
    "plt.ylabel('Playrate(%)', rotation=0, labelpad=40)\n",
    "plt.title('Average Playrate(%) by Unit Cost')\n",
    "plt.show()\n"
   ]
  },
  {
   "cell_type": "markdown",
   "id": "3af51ca2",
   "metadata": {},
   "source": [
    "## Analysis of Player Data\n",
    "After looking into what the metagame looked like in Patch 12.8 when it comes to units, let's take a look at how players played the patch. First, let's see how much games of TFT 12.8 was played by the top of the leaderboard.\n",
    "Outside of activity, it's worth looking into how different players are faring in the patch. Let's see the top gainers and losers of the patch. Note: Abnormal gains (ex. gaining 400-500+ LP in a patch) could just be a smurf climbing to high ladder, while abnormal drops could come from accounts decaying).\n",
    "### Winners and Losers of Patch 12.8"
   ]
  },
  {
   "cell_type": "code",
   "execution_count": 31,
   "id": "3edb9ef4",
   "metadata": {
    "hide_input": true
   },
   "outputs": [
    {
     "data": {
      "text/plain": [
       "Text(0.5, 0, 'Increase in LP')"
      ]
     },
     "execution_count": 31,
     "metadata": {},
     "output_type": "execute_result"
    },
    {
     "data": {
      "image/png": "[encoded data removed]",
      "text/plain": [
       "<Figure size 432x288 with 1 Axes>"
      ]
     },
     "metadata": {
      "needs_background": "light"
     },
     "output_type": "display_data"
    }
   ],
   "source": [
    "top_10 = full_player_data.sort_values(['patch-lp'], ascending=False)[['patch-lp','name']].head(10)\n",
    "bottom_10 = full_player_data.sort_values(['patch-lp'], ascending=False)[['patch-lp', 'name']].tail(10)\n",
    "make_bar_plot(top_10)\n",
    "plt.title('Top 10 LP Gains in Patch 12.8')\n",
    "plt.ylabel('Player', rotation=0)\n",
    "plt.xlabel('Increase in LP')"
   ]
  },
  {
   "cell_type": "code",
   "execution_count": 32,
   "id": "a91c759b",
   "metadata": {
    "hide_input": true
   },
   "outputs": [],
   "source": [
    "bottom_10 = bottom_10[bottom_10['patch-lp']<0]"
   ]
  },
  {
   "cell_type": "code",
   "execution_count": 33,
   "id": "5b989ba3",
   "metadata": {
    "hide_input": true
   },
   "outputs": [
    {
     "data": {
      "text/plain": [
       "Text(0.5, 0, 'Decrease in LP')"
      ]
     },
     "execution_count": 33,
     "metadata": {},
     "output_type": "execute_result"
    },
    {
     "data": {
      "image/png": "[encoded data removed]",
      "text/plain": [
       "<Figure size 432x288 with 1 Axes>"
      ]
     },
     "metadata": {
      "needs_background": "light"
     },
     "output_type": "display_data"
    }
   ],
   "source": [
    "bottom_10['patch-lp'] = bottom_10['patch-lp'].abs()\n",
    "bottom_10 = bottom_10.sort_values(by=['patch-lp'],ascending=False)\n",
    "make_bar_plot(bottom_10)\n",
    "plt.title('Top 10 LP Losses in Patch 12.8')\n",
    "plt.ylabel('Player', rotation=0)\n",
    "plt.xlabel('Decrease in LP')\n"
   ]
  },
  {
   "cell_type": "markdown",
   "id": "55b19d66",
   "metadata": {},
   "source": [
    "### Activity in Patch 12.8\n"
   ]
  },
  {
   "cell_type": "markdown",
   "id": "d52a9790",
   "metadata": {},
   "source": [
    "Taking a look at overall activity in the patch. The average player on the top of the leaderboard played around 38 games. A decent chunk of players (around 25%) of the players on the leaderboard played less than 20 games during the patch. However, the upper quartile of players in the leaderboard played 62 or more games. Let's see who were the most and least active players of the patch."
   ]
  },
  {
   "cell_type": "code",
   "execution_count": 49,
   "id": "cda2992c",
   "metadata": {
    "hide_input": true
   },
   "outputs": [
    {
     "data": {
      "text/html": [
       "<div>\n",
       "<style scoped>\n",
       "    .dataframe tbody tr th:only-of-type {\n",
       "        vertical-align: middle;\n",
       "    }\n",
       "\n",
       "    .dataframe tbody tr th {\n",
       "        vertical-align: top;\n",
       "    }\n",
       "\n",
       "    .dataframe thead th {\n",
       "        text-align: right;\n",
       "    }\n",
       "</style>\n",
       "<table border=\"1\" class=\"dataframe\">\n",
       "  <thead>\n",
       "    <tr style=\"text-align: right;\">\n",
       "      <th></th>\n",
       "      <th></th>\n",
       "    </tr>\n",
       "  </thead>\n",
       "  <tbody>\n",
       "    <tr>\n",
       "      <th>count</th>\n",
       "      <td>38.000000</td>\n",
       "    </tr>\n",
       "    <tr>\n",
       "      <th>mean</th>\n",
       "      <td>44.131579</td>\n",
       "    </tr>\n",
       "    <tr>\n",
       "      <th>min</th>\n",
       "      <td>10.000000</td>\n",
       "    </tr>\n",
       "    <tr>\n",
       "      <th>max</th>\n",
       "      <td>106.000000</td>\n",
       "    </tr>\n",
       "  </tbody>\n",
       "</table>\n",
       "</div>"
      ],
      "text/plain": [
       "                 \n",
       "count   38.000000\n",
       "mean    44.131579\n",
       "min     10.000000\n",
       "max    106.000000"
      ]
     },
     "execution_count": 49,
     "metadata": {},
     "output_type": "execute_result"
    }
   ],
   "source": [
    "df = full_player_data.sort_values(['patch-games'], ascending=False)[['patch-games','name']]\n",
    "df.columns = ['','']\n",
    "df.describe().loc[['count', 'mean', 'min', 'max']]"
   ]
  },
  {
   "cell_type": "code",
   "execution_count": 36,
   "id": "73415d45",
   "metadata": {},
   "outputs": [
    {
     "data": {
      "image/png": "[encoded data removed]",
      "text/plain": [
       "<Figure size 432x288 with 1 Axes>"
      ]
     },
     "metadata": {
      "needs_background": "light"
     },
     "output_type": "display_data"
    }
   ],
   "source": [
    "bins = [20*i for i in range(0,6)]\n",
    "plt.ylabel('Frequency', rotation=0, labelpad=40)\n",
    "plt.xlabel('Games Played')\n",
    "plt.title('Games Played in Patch 12.8')\n",
    "make_histogram(df, bins)\n",
    "\n"
   ]
  },
  {
   "cell_type": "markdown",
   "id": "637a0133",
   "metadata": {},
   "source": [
    "#### Most Active and Inactive Players in Patch 12.8"
   ]
  },
  {
   "cell_type": "code",
   "execution_count": 36,
   "id": "1a4f9be8",
   "metadata": {
    "hide_input": true
   },
   "outputs": [
    {
     "data": {
      "text/html": [
       "<style  type=\"text/css\" >\n",
       "</style><table id=\"T_15d7e94c_d80f_11ec_bf6d_c8b29b6bbdfd\" ><thead>    <tr>        <th class=\"col_heading level0 col0\" >patch-games</th>        <th class=\"col_heading level0 col1\" >name</th>    </tr></thead><tbody>\n",
       "                <tr>\n",
       "                                <td id=\"T_15d7e94c_d80f_11ec_bf6d_c8b29b6bbdfdrow0_col0\" class=\"data row0 col0\" >106</td>\n",
       "                        <td id=\"T_15d7e94c_d80f_11ec_bf6d_c8b29b6bbdfdrow0_col1\" class=\"data row0 col1\" >tapiokaoisii</td>\n",
       "            </tr>\n",
       "            <tr>\n",
       "                                <td id=\"T_15d7e94c_d80f_11ec_bf6d_c8b29b6bbdfdrow1_col0\" class=\"data row1 col0\" >101</td>\n",
       "                        <td id=\"T_15d7e94c_d80f_11ec_bf6d_c8b29b6bbdfdrow1_col1\" class=\"data row1 col1\" >iLoda NA</td>\n",
       "            </tr>\n",
       "            <tr>\n",
       "                                <td id=\"T_15d7e94c_d80f_11ec_bf6d_c8b29b6bbdfdrow2_col0\" class=\"data row2 col0\" >93</td>\n",
       "                        <td id=\"T_15d7e94c_d80f_11ec_bf6d_c8b29b6bbdfdrow2_col1\" class=\"data row2 col1\" >RamKev</td>\n",
       "            </tr>\n",
       "            <tr>\n",
       "                                <td id=\"T_15d7e94c_d80f_11ec_bf6d_c8b29b6bbdfdrow3_col0\" class=\"data row3 col0\" >77</td>\n",
       "                        <td id=\"T_15d7e94c_d80f_11ec_bf6d_c8b29b6bbdfdrow3_col1\" class=\"data row3 col1\" >IlIllIilllIlIl</td>\n",
       "            </tr>\n",
       "            <tr>\n",
       "                                <td id=\"T_15d7e94c_d80f_11ec_bf6d_c8b29b6bbdfdrow4_col0\" class=\"data row4 col0\" >73</td>\n",
       "                        <td id=\"T_15d7e94c_d80f_11ec_bf6d_c8b29b6bbdfdrow4_col1\" class=\"data row4 col1\" >Aesah</td>\n",
       "            </tr>\n",
       "            <tr>\n",
       "                                <td id=\"T_15d7e94c_d80f_11ec_bf6d_c8b29b6bbdfdrow5_col0\" class=\"data row5 col0\" >71</td>\n",
       "                        <td id=\"T_15d7e94c_d80f_11ec_bf6d_c8b29b6bbdfdrow5_col1\" class=\"data row5 col1\" >setsuko9</td>\n",
       "            </tr>\n",
       "            <tr>\n",
       "                                <td id=\"T_15d7e94c_d80f_11ec_bf6d_c8b29b6bbdfdrow6_col0\" class=\"data row6 col0\" >69</td>\n",
       "                        <td id=\"T_15d7e94c_d80f_11ec_bf6d_c8b29b6bbdfdrow6_col1\" class=\"data row6 col1\" >Subha</td>\n",
       "            </tr>\n",
       "            <tr>\n",
       "                                <td id=\"T_15d7e94c_d80f_11ec_bf6d_c8b29b6bbdfdrow7_col0\" class=\"data row7 col0\" >66</td>\n",
       "                        <td id=\"T_15d7e94c_d80f_11ec_bf6d_c8b29b6bbdfdrow7_col1\" class=\"data row7 col1\" >Dishsoap2</td>\n",
       "            </tr>\n",
       "            <tr>\n",
       "                                <td id=\"T_15d7e94c_d80f_11ec_bf6d_c8b29b6bbdfdrow8_col0\" class=\"data row8 col0\" >62</td>\n",
       "                        <td id=\"T_15d7e94c_d80f_11ec_bf6d_c8b29b6bbdfdrow8_col1\" class=\"data row8 col1\" >sètsuko</td>\n",
       "            </tr>\n",
       "            <tr>\n",
       "                                <td id=\"T_15d7e94c_d80f_11ec_bf6d_c8b29b6bbdfdrow9_col0\" class=\"data row9 col0\" >62</td>\n",
       "                        <td id=\"T_15d7e94c_d80f_11ec_bf6d_c8b29b6bbdfdrow9_col1\" class=\"data row9 col1\" >Amde</td>\n",
       "            </tr>\n",
       "    </tbody></table>"
      ],
      "text/plain": [
       "<pandas.io.formats.style.Styler at 0x1f77a9361c0>"
      ]
     },
     "execution_count": 36,
     "metadata": {},
     "output_type": "execute_result"
    }
   ],
   "source": [
    "top_10 = full_player_data.sort_values(['patch-games'], ascending=False)[['patch-games','name']].head(10)\n",
    "bottom_10 = full_player_data.sort_values(['patch-games'], ascending=False)[['patch-games', 'name']].tail(10)\n",
    "top_10.style.hide_index()"
   ]
  },
  {
   "cell_type": "code",
   "execution_count": 37,
   "id": "5f8001e5",
   "metadata": {
    "hide_input": true
   },
   "outputs": [
    {
     "data": {
      "text/html": [
       "<style  type=\"text/css\" >\n",
       "</style><table id=\"T_15daf479_d80f_11ec_a4fb_c8b29b6bbdfd\" ><thead>    <tr>        <th class=\"col_heading level0 col0\" >patch-games</th>        <th class=\"col_heading level0 col1\" >name</th>    </tr></thead><tbody>\n",
       "                <tr>\n",
       "                                <td id=\"T_15daf479_d80f_11ec_a4fb_c8b29b6bbdfdrow0_col0\" class=\"data row0 col0\" >19</td>\n",
       "                        <td id=\"T_15daf479_d80f_11ec_a4fb_c8b29b6bbdfdrow0_col1\" class=\"data row0 col1\" >FingerLicker</td>\n",
       "            </tr>\n",
       "            <tr>\n",
       "                                <td id=\"T_15daf479_d80f_11ec_a4fb_c8b29b6bbdfdrow1_col0\" class=\"data row1 col0\" >18</td>\n",
       "                        <td id=\"T_15daf479_d80f_11ec_a4fb_c8b29b6bbdfdrow1_col1\" class=\"data row1 col1\" >TheOneAndOnlyBea</td>\n",
       "            </tr>\n",
       "            <tr>\n",
       "                                <td id=\"T_15daf479_d80f_11ec_a4fb_c8b29b6bbdfdrow2_col0\" class=\"data row2 col0\" >17</td>\n",
       "                        <td id=\"T_15daf479_d80f_11ec_a4fb_c8b29b6bbdfdrow2_col1\" class=\"data row2 col1\" >CN smùrfing</td>\n",
       "            </tr>\n",
       "            <tr>\n",
       "                                <td id=\"T_15daf479_d80f_11ec_a4fb_c8b29b6bbdfdrow3_col0\" class=\"data row3 col0\" >16</td>\n",
       "                        <td id=\"T_15daf479_d80f_11ec_a4fb_c8b29b6bbdfdrow3_col1\" class=\"data row3 col1\" >FoemanDD</td>\n",
       "            </tr>\n",
       "            <tr>\n",
       "                                <td id=\"T_15daf479_d80f_11ec_a4fb_c8b29b6bbdfdrow4_col0\" class=\"data row4 col0\" >14</td>\n",
       "                        <td id=\"T_15daf479_d80f_11ec_a4fb_c8b29b6bbdfdrow4_col1\" class=\"data row4 col1\" >KurumBusinessAcc</td>\n",
       "            </tr>\n",
       "            <tr>\n",
       "                                <td id=\"T_15daf479_d80f_11ec_a4fb_c8b29b6bbdfdrow5_col0\" class=\"data row5 col0\" >12</td>\n",
       "                        <td id=\"T_15daf479_d80f_11ec_a4fb_c8b29b6bbdfdrow5_col1\" class=\"data row5 col1\" >tyreaal</td>\n",
       "            </tr>\n",
       "            <tr>\n",
       "                                <td id=\"T_15daf479_d80f_11ec_a4fb_c8b29b6bbdfdrow6_col0\" class=\"data row6 col0\" >12</td>\n",
       "                        <td id=\"T_15daf479_d80f_11ec_a4fb_c8b29b6bbdfdrow6_col1\" class=\"data row6 col1\" >9 P</td>\n",
       "            </tr>\n",
       "            <tr>\n",
       "                                <td id=\"T_15daf479_d80f_11ec_a4fb_c8b29b6bbdfdrow7_col0\" class=\"data row7 col0\" >11</td>\n",
       "                        <td id=\"T_15daf479_d80f_11ec_a4fb_c8b29b6bbdfdrow7_col1\" class=\"data row7 col1\" >Soda Is A Cat</td>\n",
       "            </tr>\n",
       "            <tr>\n",
       "                                <td id=\"T_15daf479_d80f_11ec_a4fb_c8b29b6bbdfdrow8_col0\" class=\"data row8 col0\" >10</td>\n",
       "                        <td id=\"T_15daf479_d80f_11ec_a4fb_c8b29b6bbdfdrow8_col1\" class=\"data row8 col1\" >BC Socks</td>\n",
       "            </tr>\n",
       "            <tr>\n",
       "                                <td id=\"T_15daf479_d80f_11ec_a4fb_c8b29b6bbdfdrow9_col0\" class=\"data row9 col0\" >10</td>\n",
       "                        <td id=\"T_15daf479_d80f_11ec_a4fb_c8b29b6bbdfdrow9_col1\" class=\"data row9 col1\" >Gwen</td>\n",
       "            </tr>\n",
       "    </tbody></table>"
      ],
      "text/plain": [
       "<pandas.io.formats.style.Styler at 0x1f7797863a0>"
      ]
     },
     "execution_count": 37,
     "metadata": {},
     "output_type": "execute_result"
    }
   ],
   "source": [
    "bottom_10.style.hide_index()"
   ]
  },
  {
   "cell_type": "markdown",
   "id": "af875f52",
   "metadata": {},
   "source": [
    "## Analysis of Profile Data \n",
    "\n",
    "We also have data on players' ratings made by tactics.tools on 5 categories: Flexibility, Econ, Items, Compositions, and Execution. Let's look at how the top players perform in each category one by one.\n",
    "### Flexibility Rating of Players in 12.8\n",
    "There is a lot of variety in how flexible players are. Although it is most common that players have a grade of C to A in flexibility, there are some extremely flexible and extremely unflexible players that are on the top of the leaderboard. "
   ]
  },
  {
   "cell_type": "code",
   "execution_count": 38,
   "id": "ba9b01e0",
   "metadata": {
    "hide_input": true
   },
   "outputs": [
    {
     "data": {
      "image/png": "[encoded data removed]",
      "text/plain": [
       "<Figure size 432x288 with 1 Axes>"
      ]
     },
     "metadata": {
      "needs_background": "light"
     },
     "output_type": "display_data"
    }
   ],
   "source": [
    "df = full_player_data.sort_values(['Flexibility_num'], ascending=False)[['Flexibility_num', 'name']]\n",
    "bins = [i for i in range(0,7)]\n",
    "plt.title('\\'Flexibility\\' Rating Distribution (Patch 12.8)')\n",
    "plt.xticks(ticks=range(0,7),labels=['F', 'D', 'C', 'B', 'A', 'S', 'S+'])\n",
    "plt.ylabel('Frequency',rotation=0, labelpad=40 )\n",
    "plt.xlabel('Grade')\n",
    "make_histogram(df,bins)\n"
   ]
  },
  {
   "cell_type": "markdown",
   "id": "77b23f82",
   "metadata": {},
   "source": [
    "Deeper look, the most flexible players are   RamKev and 9 P with S-rank flexibility, while 'CN smùrfing' has shown you can make it to the top of the server even with an F in flexibility. "
   ]
  },
  {
   "cell_type": "markdown",
   "id": "9cb64fca",
   "metadata": {},
   "source": [
    "#### Top 10 and Bottom 10 Flexible Players"
   ]
  },
  {
   "cell_type": "code",
   "execution_count": 39,
   "id": "1eef9fcb",
   "metadata": {},
   "outputs": [
    {
     "data": {
      "text/html": [
       "<div>\n",
       "<style scoped>\n",
       "    .dataframe tbody tr th:only-of-type {\n",
       "        vertical-align: middle;\n",
       "    }\n",
       "\n",
       "    .dataframe tbody tr th {\n",
       "        vertical-align: top;\n",
       "    }\n",
       "\n",
       "    .dataframe thead th {\n",
       "        text-align: right;\n",
       "    }\n",
       "</style>\n",
       "<table border=\"1\" class=\"dataframe\">\n",
       "  <thead>\n",
       "    <tr style=\"text-align: right;\">\n",
       "      <th></th>\n",
       "      <th>Flexibility</th>\n",
       "      <th>name</th>\n",
       "    </tr>\n",
       "  </thead>\n",
       "  <tbody>\n",
       "    <tr>\n",
       "      <th>36</th>\n",
       "      <td>S</td>\n",
       "      <td>9 P</td>\n",
       "    </tr>\n",
       "    <tr>\n",
       "      <th>15</th>\n",
       "      <td>S</td>\n",
       "      <td>RamKev</td>\n",
       "    </tr>\n",
       "    <tr>\n",
       "      <th>27</th>\n",
       "      <td>A</td>\n",
       "      <td>FoemanDD</td>\n",
       "    </tr>\n",
       "    <tr>\n",
       "      <th>2</th>\n",
       "      <td>A</td>\n",
       "      <td>Darth Nub</td>\n",
       "    </tr>\n",
       "    <tr>\n",
       "      <th>3</th>\n",
       "      <td>A</td>\n",
       "      <td>Subha</td>\n",
       "    </tr>\n",
       "    <tr>\n",
       "      <th>7</th>\n",
       "      <td>A</td>\n",
       "      <td>BestSatoJP</td>\n",
       "    </tr>\n",
       "    <tr>\n",
       "      <th>21</th>\n",
       "      <td>A</td>\n",
       "      <td>Ramblinnn</td>\n",
       "    </tr>\n",
       "    <tr>\n",
       "      <th>9</th>\n",
       "      <td>A</td>\n",
       "      <td>Triple8s</td>\n",
       "    </tr>\n",
       "    <tr>\n",
       "      <th>11</th>\n",
       "      <td>A</td>\n",
       "      <td>setsuko9</td>\n",
       "    </tr>\n",
       "    <tr>\n",
       "      <th>13</th>\n",
       "      <td>A</td>\n",
       "      <td>BC Socks</td>\n",
       "    </tr>\n",
       "  </tbody>\n",
       "</table>\n",
       "</div>"
      ],
      "text/plain": [
       "   Flexibility        name\n",
       "36           S         9 P\n",
       "15           S      RamKev\n",
       "27           A    FoemanDD\n",
       "2            A   Darth Nub\n",
       "3            A       Subha\n",
       "7            A  BestSatoJP\n",
       "21           A   Ramblinnn\n",
       "9            A    Triple8s\n",
       "11           A    setsuko9\n",
       "13           A    BC Socks"
      ]
     },
     "execution_count": 39,
     "metadata": {},
     "output_type": "execute_result"
    }
   ],
   "source": [
    "top_10 = full_player_data.sort_values(['Flexibility_num'], ascending=False)[['Flexibility', 'name']].head(10)\n",
    "bottom_10 = full_player_data.sort_values(['Flexibility_num'], ascending=False)[['Flexibility', 'name']].tail(10)\n",
    "top_10"
   ]
  },
  {
   "cell_type": "code",
   "execution_count": 40,
   "id": "293efc29",
   "metadata": {
    "hide_input": true
   },
   "outputs": [
    {
     "data": {
      "text/html": [
       "<div>\n",
       "<style scoped>\n",
       "    .dataframe tbody tr th:only-of-type {\n",
       "        vertical-align: middle;\n",
       "    }\n",
       "\n",
       "    .dataframe tbody tr th {\n",
       "        vertical-align: top;\n",
       "    }\n",
       "\n",
       "    .dataframe thead th {\n",
       "        text-align: right;\n",
       "    }\n",
       "</style>\n",
       "<table border=\"1\" class=\"dataframe\">\n",
       "  <thead>\n",
       "    <tr style=\"text-align: right;\">\n",
       "      <th></th>\n",
       "      <th>Flexibility</th>\n",
       "      <th>name</th>\n",
       "    </tr>\n",
       "  </thead>\n",
       "  <tbody>\n",
       "    <tr>\n",
       "      <th>5</th>\n",
       "      <td>C</td>\n",
       "      <td>Amde</td>\n",
       "    </tr>\n",
       "    <tr>\n",
       "      <th>4</th>\n",
       "      <td>C</td>\n",
       "      <td>tapiokaoisii</td>\n",
       "    </tr>\n",
       "    <tr>\n",
       "      <th>37</th>\n",
       "      <td>C</td>\n",
       "      <td>tomozzz123</td>\n",
       "    </tr>\n",
       "    <tr>\n",
       "      <th>25</th>\n",
       "      <td>D</td>\n",
       "      <td>ggopen</td>\n",
       "    </tr>\n",
       "    <tr>\n",
       "      <th>24</th>\n",
       "      <td>D</td>\n",
       "      <td>tyreaal</td>\n",
       "    </tr>\n",
       "    <tr>\n",
       "      <th>18</th>\n",
       "      <td>D</td>\n",
       "      <td>ttv NicNac19</td>\n",
       "    </tr>\n",
       "    <tr>\n",
       "      <th>10</th>\n",
       "      <td>D</td>\n",
       "      <td>Liquid Kurumx</td>\n",
       "    </tr>\n",
       "    <tr>\n",
       "      <th>32</th>\n",
       "      <td>D</td>\n",
       "      <td>BALULTELLI777</td>\n",
       "    </tr>\n",
       "    <tr>\n",
       "      <th>34</th>\n",
       "      <td>D</td>\n",
       "      <td>bunbopapa</td>\n",
       "    </tr>\n",
       "    <tr>\n",
       "      <th>8</th>\n",
       "      <td>F</td>\n",
       "      <td>CN smùrfing</td>\n",
       "    </tr>\n",
       "  </tbody>\n",
       "</table>\n",
       "</div>"
      ],
      "text/plain": [
       "   Flexibility           name\n",
       "5            C           Amde\n",
       "4            C   tapiokaoisii\n",
       "37           C     tomozzz123\n",
       "25           D         ggopen\n",
       "24           D        tyreaal\n",
       "18           D   ttv NicNac19\n",
       "10           D  Liquid Kurumx\n",
       "32           D  BALULTELLI777\n",
       "34           D      bunbopapa\n",
       "8            F    CN smùrfing"
      ]
     },
     "execution_count": 40,
     "metadata": {},
     "output_type": "execute_result"
    }
   ],
   "source": [
    "bottom_10"
   ]
  },
  {
   "cell_type": "markdown",
   "id": "684f793c",
   "metadata": {},
   "source": [
    "#### Comparison of Units Used Between Top 10 and Bottom 10 Flexible Players\n",
    "Flexible and non-flexible players must have large playstyle differences. Let's see which units fits which kind of playstyle. Less flexible players seem to use frequently make use of Jinx and Orianna, strong supports for 4-cost carries. Meanwhile, more flexible players make more use of 5-cost carries (Viktor, Kaisa) and generic frontline (Braum, Blitzcrank)."
   ]
  },
  {
   "cell_type": "code",
   "execution_count": 41,
   "id": "b89838e6",
   "metadata": {},
   "outputs": [
    {
     "data": {
      "text/plain": [
       "<AxesSubplot:>"
      ]
     },
     "execution_count": 41,
     "metadata": {},
     "output_type": "execute_result"
    },
    {
     "data": {
      "image/png": "[encoded data removed]",
      "text/plain": [
       "<Figure size 432x288 with 1 Axes>"
      ]
     },
     "metadata": {
      "needs_background": "light"
     },
     "output_type": "display_data"
    }
   ],
   "source": [
    "comparison = unit_comparison(top_10, bottom_10, preferences)\n",
    "comparison.columns = ['Top 10', 'Bottom 10']\n",
    "comparison = comparison[(comparison['Top 10'] >=4) | (comparison['Bottom 10'] >= 4)]\n",
    "comparison.plot(kind='barh')\n",
    "plt.xlabel('# of Players Using Unit')\n",
    "plt.ylabel('Unit')\n",
    "plt.show()"
   ]
  },
  {
   "cell_type": "markdown",
   "id": "f20dd5b7",
   "metadata": {},
   "source": [
    "### Execution Rating of Players in 12.8\n",
    "A look at the 'execution rating' of top players in 12.8. All players have a grade of A or better, shows that you need to execute well and be efficient to perform well on the ladder. No need to look into the difference in unit plays if players have overalll similar ratings. "
   ]
  },
  {
   "cell_type": "code",
   "execution_count": 42,
   "id": "a7ed8723",
   "metadata": {
    "hide_input": true
   },
   "outputs": [
    {
     "data": {
      "image/png": "[encoded data removed]",
      "text/plain": [
       "<Figure size 432x288 with 1 Axes>"
      ]
     },
     "metadata": {
      "needs_background": "light"
     },
     "output_type": "display_data"
    }
   ],
   "source": [
    "df = full_player_data.sort_values(['Execution_num'], ascending=False)[['Execution_num', 'name']]\n",
    "bins = [i for i in range(0,7)]\n",
    "plt.title('\\'Execution\\' Rating Distribution (Patch 12.8)')\n",
    "plt.xticks(ticks=range(0,7),labels=['F', 'D', 'C', 'B', 'A', 'S', 'S+'])\n",
    "plt.ylabel('Frequency',rotation=0, labelpad=40 )\n",
    "plt.xlabel('Grade')\n",
    "make_histogram(df,bins)"
   ]
  },
  {
   "cell_type": "markdown",
   "id": "c9c15ed5",
   "metadata": {},
   "source": [
    "### Econ Rating of Players in 12.8\n",
    "Similar story for the 'Econ' rating. All players have a grade rating of A or better. This may change in other patches, but it shows that having a strong economy is important to placing well in the patch. Similar to the 'Execution Rating' no need to look into difference of units used if ratings are similar. "
   ]
  },
  {
   "cell_type": "code",
   "execution_count": 43,
   "id": "c49c53d3",
   "metadata": {
    "hide_input": true
   },
   "outputs": [
    {
     "data": {
      "image/png": "[encoded data removed]",
      "text/plain": [
       "<Figure size 432x288 with 1 Axes>"
      ]
     },
     "metadata": {
      "needs_background": "light"
     },
     "output_type": "display_data"
    }
   ],
   "source": [
    "df = full_player_data.sort_values(['Econ_num'], ascending=False)[['Econ_num', 'name']]\n",
    "bins = [i for i in range(0,7)]\n",
    "plt.title('\\'Econ\\' Rating Distribution (Patch 12.8)')\n",
    "plt.xticks(ticks=range(0,7),labels=['F', 'D', 'C', 'B', 'A', 'S', 'S+'])\n",
    "plt.ylabel('Frequency',rotation=0, labelpad=40 )\n",
    "plt.xlabel('Grade')\n",
    "make_histogram(df,bins)"
   ]
  },
  {
   "cell_type": "markdown",
   "id": "12475ca2",
   "metadata": {},
   "source": [
    "### Composition Rating of Players in 12.8\n",
    "Applies even more for 'Compositions' Rating, everyone either has an S or S+ in compositions. It is a requirement to play strong compositions in the meta to do well on the ladder (at least in Patch 12.8). "
   ]
  },
  {
   "cell_type": "code",
   "execution_count": 44,
   "id": "89a7ca9e",
   "metadata": {
    "hide_input": true
   },
   "outputs": [
    {
     "data": {
      "image/png": "[encoded data removed]",
      "text/plain": [
       "<Figure size 432x288 with 1 Axes>"
      ]
     },
     "metadata": {
      "needs_background": "light"
     },
     "output_type": "display_data"
    }
   ],
   "source": [
    "df = full_player_data.sort_values(['Compositions_num'], ascending=False)[['Compositions_num', 'name']]\n",
    "bins = [i for i in range(0,7)]\n",
    "plt.title('\\'Compositions\\' Rating Distribution (Patch 12.8)')\n",
    "plt.xticks(ticks=range(0,7),labels=['F', 'D', 'C', 'B', 'A', 'S', 'S+'])\n",
    "plt.ylabel('Frequency',rotation=0, labelpad=40 )\n",
    "plt.xlabel('Grade')\n",
    "make_histogram(df,bins)"
   ]
  },
  {
   "cell_type": "markdown",
   "id": "f6bc5f07",
   "metadata": {},
   "source": [
    "### Items Rating of Players in 12.8\n",
    "More differences are seen in players 'Items' rating. Some players are more reliant on having the best items for all of their units, while others may not have optimal items, but gain advantage elsewhere (ex. slamming items early to save HP). An example would be 'CN smùrfing', who has an S in items, but an F in flexibility. It is possible that since he is less flexible with what units he plays, he can focus on making only the best items for his comp of choice. "
   ]
  },
  {
   "cell_type": "code",
   "execution_count": 45,
   "id": "4840dd76",
   "metadata": {
    "hide_input": true
   },
   "outputs": [
    {
     "data": {
      "image/png": "[encoded data removed]",
      "text/plain": [
       "<Figure size 432x288 with 1 Axes>"
      ]
     },
     "metadata": {
      "needs_background": "light"
     },
     "output_type": "display_data"
    }
   ],
   "source": [
    "df = full_player_data.sort_values(['Items_num'], ascending=False)[['Items_num', 'name']]\n",
    "bins = [i for i in range(0,7)]\n",
    "plt.title('\\'Items\\' Rating Distribution (Patch 12.8)')\n",
    "plt.xticks(ticks=range(0,7),labels=['F', 'D', 'C', 'B', 'A', 'S', 'S+'])\n",
    "plt.ylabel('Frequency',rotation=0, labelpad=40 )\n",
    "plt.xlabel('Grade')\n",
    "make_histogram(df,bins)"
   ]
  },
  {
   "cell_type": "markdown",
   "id": "3d7b04bb",
   "metadata": {},
   "source": [
    "#### Top 10 and Bottom 10 Players by 'Items' Rating"
   ]
  },
  {
   "cell_type": "code",
   "execution_count": 46,
   "id": "ce933510",
   "metadata": {
    "hide_input": true
   },
   "outputs": [
    {
     "data": {
      "text/html": [
       "<div>\n",
       "<style scoped>\n",
       "    .dataframe tbody tr th:only-of-type {\n",
       "        vertical-align: middle;\n",
       "    }\n",
       "\n",
       "    .dataframe tbody tr th {\n",
       "        vertical-align: top;\n",
       "    }\n",
       "\n",
       "    .dataframe thead th {\n",
       "        text-align: right;\n",
       "    }\n",
       "</style>\n",
       "<table border=\"1\" class=\"dataframe\">\n",
       "  <thead>\n",
       "    <tr style=\"text-align: right;\">\n",
       "      <th></th>\n",
       "      <th>Items</th>\n",
       "      <th>name</th>\n",
       "    </tr>\n",
       "  </thead>\n",
       "  <tbody>\n",
       "    <tr>\n",
       "      <th>14</th>\n",
       "      <td>S</td>\n",
       "      <td>Gwen</td>\n",
       "    </tr>\n",
       "    <tr>\n",
       "      <th>8</th>\n",
       "      <td>S</td>\n",
       "      <td>CN smùrfing</td>\n",
       "    </tr>\n",
       "    <tr>\n",
       "      <th>23</th>\n",
       "      <td>S</td>\n",
       "      <td>Soda Is A Cat</td>\n",
       "    </tr>\n",
       "    <tr>\n",
       "      <th>32</th>\n",
       "      <td>S</td>\n",
       "      <td>BALULTELLI777</td>\n",
       "    </tr>\n",
       "    <tr>\n",
       "      <th>1</th>\n",
       "      <td>S</td>\n",
       "      <td>Wíthin</td>\n",
       "    </tr>\n",
       "    <tr>\n",
       "      <th>27</th>\n",
       "      <td>S</td>\n",
       "      <td>FoemanDD</td>\n",
       "    </tr>\n",
       "    <tr>\n",
       "      <th>3</th>\n",
       "      <td>S</td>\n",
       "      <td>Subha</td>\n",
       "    </tr>\n",
       "    <tr>\n",
       "      <th>36</th>\n",
       "      <td>A</td>\n",
       "      <td>9 P</td>\n",
       "    </tr>\n",
       "    <tr>\n",
       "      <th>7</th>\n",
       "      <td>A</td>\n",
       "      <td>BestSatoJP</td>\n",
       "    </tr>\n",
       "    <tr>\n",
       "      <th>26</th>\n",
       "      <td>A</td>\n",
       "      <td>Press Tin</td>\n",
       "    </tr>\n",
       "  </tbody>\n",
       "</table>\n",
       "</div>"
      ],
      "text/plain": [
       "   Items           name\n",
       "14     S           Gwen\n",
       "8      S    CN smùrfing\n",
       "23     S  Soda Is A Cat\n",
       "32     S  BALULTELLI777\n",
       "1      S         Wíthin\n",
       "27     S       FoemanDD\n",
       "3      S          Subha\n",
       "36     A            9 P\n",
       "7      A     BestSatoJP\n",
       "26     A      Press Tin"
      ]
     },
     "execution_count": 46,
     "metadata": {},
     "output_type": "execute_result"
    }
   ],
   "source": [
    "top_10 = full_player_data.sort_values(['Items_num'], ascending=False)[['Items', 'name']].head(10)\n",
    "bottom_10 = full_player_data.sort_values(['Items_num'], ascending=False)[['Items', 'name']].tail(10)\n",
    "top_10"
   ]
  },
  {
   "cell_type": "code",
   "execution_count": 47,
   "id": "f94e017b",
   "metadata": {
    "hide_input": true
   },
   "outputs": [
    {
     "data": {
      "text/html": [
       "<div>\n",
       "<style scoped>\n",
       "    .dataframe tbody tr th:only-of-type {\n",
       "        vertical-align: middle;\n",
       "    }\n",
       "\n",
       "    .dataframe tbody tr th {\n",
       "        vertical-align: top;\n",
       "    }\n",
       "\n",
       "    .dataframe thead th {\n",
       "        text-align: right;\n",
       "    }\n",
       "</style>\n",
       "<table border=\"1\" class=\"dataframe\">\n",
       "  <thead>\n",
       "    <tr style=\"text-align: right;\">\n",
       "      <th></th>\n",
       "      <th>Items</th>\n",
       "      <th>name</th>\n",
       "    </tr>\n",
       "  </thead>\n",
       "  <tbody>\n",
       "    <tr>\n",
       "      <th>0</th>\n",
       "      <td>B</td>\n",
       "      <td>sètsuko</td>\n",
       "    </tr>\n",
       "    <tr>\n",
       "      <th>28</th>\n",
       "      <td>B</td>\n",
       "      <td>FingerLicker</td>\n",
       "    </tr>\n",
       "    <tr>\n",
       "      <th>24</th>\n",
       "      <td>B</td>\n",
       "      <td>tyreaal</td>\n",
       "    </tr>\n",
       "    <tr>\n",
       "      <th>22</th>\n",
       "      <td>B</td>\n",
       "      <td>nice try</td>\n",
       "    </tr>\n",
       "    <tr>\n",
       "      <th>20</th>\n",
       "      <td>B</td>\n",
       "      <td>Aesah</td>\n",
       "    </tr>\n",
       "    <tr>\n",
       "      <th>13</th>\n",
       "      <td>B</td>\n",
       "      <td>BC Socks</td>\n",
       "    </tr>\n",
       "    <tr>\n",
       "      <th>11</th>\n",
       "      <td>B</td>\n",
       "      <td>setsuko9</td>\n",
       "    </tr>\n",
       "    <tr>\n",
       "      <th>6</th>\n",
       "      <td>B</td>\n",
       "      <td>Dishsoap2</td>\n",
       "    </tr>\n",
       "    <tr>\n",
       "      <th>19</th>\n",
       "      <td>B</td>\n",
       "      <td>rudyr</td>\n",
       "    </tr>\n",
       "    <tr>\n",
       "      <th>18</th>\n",
       "      <td>C</td>\n",
       "      <td>ttv NicNac19</td>\n",
       "    </tr>\n",
       "  </tbody>\n",
       "</table>\n",
       "</div>"
      ],
      "text/plain": [
       "   Items          name\n",
       "0      B       sètsuko\n",
       "28     B  FingerLicker\n",
       "24     B       tyreaal\n",
       "22     B      nice try\n",
       "20     B         Aesah\n",
       "13     B      BC Socks\n",
       "11     B      setsuko9\n",
       "6      B     Dishsoap2\n",
       "19     B         rudyr\n",
       "18     C  ttv NicNac19"
      ]
     },
     "execution_count": 47,
     "metadata": {},
     "output_type": "execute_result"
    }
   ],
   "source": [
    "bottom_10"
   ]
  },
  {
   "cell_type": "markdown",
   "id": "22df045c",
   "metadata": {},
   "source": [
    "We can see what units are used by players who prioritize items, compared to thoose who don't prioritize it as much. Those who prioritize items seem to heavily prefer the Scrap core of Jinx and Ekko. Ekko in particular is really strong specifically with the item Frozen Heart. Meanwhile, players who don't prioritize items focus on units support units that can perform well regardless of items, such as Jhin, Orianna, and Braum. "
   ]
  },
  {
   "cell_type": "code",
   "execution_count": 51,
   "id": "c2dd5268",
   "metadata": {
    "hide_input": true
   },
   "outputs": [
    {
     "data": {
      "image/png": "[encoded data removed]",
      "text/plain": [
       "<Figure size 432x288 with 1 Axes>"
      ]
     },
     "metadata": {
      "needs_background": "light"
     },
     "output_type": "display_data"
    }
   ],
   "source": [
    "comparison = unit_comparison(top_10, bottom_10, preferences)\n",
    "comparison.columns = ['Top 10', 'Bottom 10']\n",
    "comparison = comparison[(comparison['Top 10'] >=4) | (comparison['Bottom 10'] >= 4)]\n",
    "comparison.plot(kind='barh')\n",
    "plt.xlabel('Players')\n",
    "plt.ylabel('Unit', rotation=0, labelpad=15)\n",
    "plt.show()"
   ]
  },
  {
   "cell_type": "markdown",
   "id": "b01d287c",
   "metadata": {},
   "source": [
    "#### Case Study: CN smùrfing\n",
    "'CN smùrfing' had by far the most polarizing profile, with a Flexibility rating of F, and an items rating of S. What units does he play the most? It appears he mostly plays the Scrap Sivir comp, a unit most often seen at the world championships, played in Patch 12.7. It appears to still be very strong in this patch, to the point that someone can be near the top of the NA leaderboard forcing the comp.\n"
   ]
  },
  {
   "cell_type": "code",
   "execution_count": 60,
   "id": "09db0941",
   "metadata": {
    "hide_input": true
   },
   "outputs": [
    {
     "data": {
      "text/html": [
       "<div>\n",
       "<style scoped>\n",
       "    .dataframe tbody tr th:only-of-type {\n",
       "        vertical-align: middle;\n",
       "    }\n",
       "\n",
       "    .dataframe tbody tr th {\n",
       "        vertical-align: top;\n",
       "    }\n",
       "\n",
       "    .dataframe thead th {\n",
       "        text-align: right;\n",
       "    }\n",
       "</style>\n",
       "<table border=\"1\" class=\"dataframe\">\n",
       "  <thead>\n",
       "    <tr style=\"text-align: right;\">\n",
       "      <th></th>\n",
       "      <th></th>\n",
       "      <th></th>\n",
       "      <th></th>\n",
       "      <th></th>\n",
       "      <th></th>\n",
       "      <th></th>\n",
       "      <th></th>\n",
       "      <th></th>\n",
       "    </tr>\n",
       "  </thead>\n",
       "  <tbody>\n",
       "    <tr>\n",
       "      <th>6</th>\n",
       "      <td>CN smùrfing</td>\n",
       "      <td>Ekko</td>\n",
       "      <td>Blitzcrank</td>\n",
       "      <td>Irelia</td>\n",
       "      <td>Sivir</td>\n",
       "      <td>Gnar</td>\n",
       "      <td>Jinx</td>\n",
       "      <td>Braum</td>\n",
       "    </tr>\n",
       "  </tbody>\n",
       "</table>\n",
       "</div>"
      ],
      "text/plain": [
       "                                                                  \n",
       "6  CN smùrfing  Ekko  Blitzcrank  Irelia  Sivir  Gnar  Jinx  Braum"
      ]
     },
     "execution_count": 60,
     "metadata": {},
     "output_type": "execute_result"
    }
   ],
   "source": [
    "user = preferences[preferences['name'] == 'CN smùrfing']\n",
    "user.columns = ['','','','','','','','']\n",
    "user"
   ]
  },
  {
   "cell_type": "code",
   "execution_count": null,
   "id": "03130ea1",
   "metadata": {},
   "outputs": [],
   "source": []
  }
 ],
 "metadata": {
  "hide_input": false,
  "kernelspec": {
   "display_name": "Python 3 (ipykernel)",
   "language": "python",
   "name": "python3"
  },
  "language_info": {
   "codemirror_mode": {
    "name": "ipython",
    "version": 3
   },
   "file_extension": ".py",
   "mimetype": "text/x-python",
   "name": "python",
   "nbconvert_exporter": "python",
   "pygments_lexer": "ipython3",
   "version": "3.9.1"
  }
 },
 "nbformat": 4,
 "nbformat_minor": 5
}
